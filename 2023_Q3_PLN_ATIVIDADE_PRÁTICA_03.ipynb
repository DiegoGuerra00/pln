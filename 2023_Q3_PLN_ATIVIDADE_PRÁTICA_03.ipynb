{
  "nbformat": 4,
  "nbformat_minor": 0,
  "metadata": {
    "colab": {
      "provenance": [],
      "include_colab_link": true
    },
    "kernelspec": {
      "name": "python3",
      "display_name": "Python 3"
    }
  },
  "cells": [
    {
      "cell_type": "markdown",
      "metadata": {
        "id": "view-in-github",
        "colab_type": "text"
      },
      "source": [
        "<a href=\"https://colab.research.google.com/github/DiegoGuerra00/pln/blob/main/2023_Q3_PLN_ATIVIDADE_PR%C3%81TICA_03.ipynb\" target=\"_parent\"><img src=\"https://colab.research.google.com/assets/colab-badge.svg\" alt=\"Open In Colab\"/></a>"
      ]
    },
    {
      "cell_type": "markdown",
      "metadata": {
        "id": "Y6QILOdpOjwv"
      },
      "source": [
        "# **Processamento de Linguagem Natural [2023.Q3]**\n",
        "Prof. Alexandre Donizeti Alves"
      ]
    },
    {
      "cell_type": "markdown",
      "metadata": {
        "id": "8m67OOx9MX_3"
      },
      "source": [
        "### **ATIVIDADE PRÁTICA 03 [Tutorial sobre uma API]**\n",
        "\n",
        "---"
      ]
    },
    {
      "cell_type": "markdown",
      "metadata": {
        "id": "5Gk0nHKabBT-"
      },
      "source": [
        "A **ATIVIDADE PRÁTICA 03** deve ser feita utilizando o **Google Colab** com uma conta\n",
        "sua vinculada ao Gmail. O link do seu notebook, armazenado no Google Drive, além do link de um repositório no GitHub e os principais resultados da atividade, devem ser enviados usando o seguinte formulário:\n",
        "\n",
        "> https://forms.gle/nPsWnUuE5GCeXaiU8 (**AINDA EM CONSTRUÇÃO**)\n",
        "\n",
        "\n",
        "**IMPORTANTE**: A submissão deve ser feita APENAS POR UM INTEGRANTE DA EQUIPE até o dia 30/10 (segunda-feira - até às 23h59). Por favor, lembre-se de dar permissão de ACESSO IRRESTRITO para o professor da disciplina de PLN."
      ]
    },
    {
      "cell_type": "markdown",
      "metadata": {
        "id": "D7hJlilKM485"
      },
      "source": [
        "### **EQUIPE**\n",
        "\n",
        "---"
      ]
    },
    {
      "cell_type": "markdown",
      "source": [
        "**POR FAVOR, PREENCHER OS INTEGRANDES DA SUA EQUIPE:**\n",
        "\n",
        "\n",
        "**Integrante 01:**\n",
        "\n",
        "Diego Guerra / RA: 11201810534\n",
        "\n",
        "**Integrante 02:**\n",
        "\n",
        "Isolda Costa /RA: 21053014\n",
        "\n",
        "**Integrante 03:**\n",
        "\n",
        "Luis Gustavo campos / RA: 11201811265"
      ],
      "metadata": {
        "id": "tnIArN0QY-Ek"
      }
    },
    {
      "cell_type": "markdown",
      "source": [
        "### **API**\n",
        "---"
      ],
      "metadata": {
        "id": "6yExhaebs-nD"
      }
    },
    {
      "cell_type": "markdown",
      "source": [
        "**QUAL A API SELECIONADA POR SUA EQUIPE?**\n",
        "\n",
        "`API: Wikipedia`\n",
        "\n",
        "`Site oficial: ` https://pt.wikipedia.org/wiki/Wikip%C3%A9dia:P%C3%A1gina_principal\n",
        "\n",
        "`Link para a documentação oficial:` https://en.wikipedia.org/w/api.php"
      ],
      "metadata": {
        "id": "DjJM_qhEZRy6"
      }
    },
    {
      "cell_type": "markdown",
      "metadata": {
        "id": "EtjgWQRzNphL"
      },
      "source": [
        "### **DESCRIÇÃO**\n",
        "---"
      ]
    },
    {
      "cell_type": "markdown",
      "source": [
        "Implementar um `notebook` no `Google Colab` para demonstrar passo a passo como usar uma determinada **API** em `Python`, ou seja, criar um **TUTORIAL** destacando desde a instalação e configuração da **API** até as principais finalidades. O **TUTORIAL** deve ser o mais completo possível, com diversos exemplos de uso e permitindo ser facilmente reproduzido.\n",
        "\n",
        "A **API** deve ser selecionada na seguinte planilha:\n",
        "\n",
        "https://docs.google.com/spreadsheets/d/1-Q1szJ3UmoE2_3LtcRQyqid5fPIcnpsR3XAPnoxLj2o/edit?usp=sharing\n",
        "\n",
        ">\n",
        "\n",
        "**IMPORTANTE:** É obrigatório usar o e-mail da UFABC.\n",
        "\n",
        ">\n",
        "\n",
        "**DICA:** Por favor, insira o seu nome ou da sua equipe na ordem definida na planilha. A escolha da **API** deve ser feita de acordo com a lista disponibilizada na planilha. Cada **API** só pode ser escolhida por, no **MÁXIMO**, 2 equipes."
      ],
      "metadata": {
        "id": "fXTwkiiGs2BV"
      }
    },
    {
      "cell_type": "markdown",
      "source": [
        "### **ROTEIRO PARA APRESENTAÇÃO DE UMA API**\n",
        "\n",
        "---\n",
        ">\n",
        "\n",
        "\n",
        "**IMPORTANTE**: consulta feita no ChatGPT\n",
        "\n",
        ">\n",
        "\n",
        "Como escrever um tutorial sobre uma API em Python usando o Google Colab com foco nas etapas essenciais. Aqui está um guia rápido:\n",
        "\n",
        ">\n",
        "\n",
        "* **Passo 01: Introdução**\n",
        "\n",
        "  >  Apresente a API que você está explicando.\n",
        "\n",
        "  >  Explique por que é útil ou relevante.\n",
        "\n",
        "* **Passo 02: Configuração no Google Colab**\n",
        "\n",
        "  > Explique como os leitores podem abrir um novo notebook no Google Colab.\n",
        "\n",
        "  > Mostre como importar bibliotecas necessárias.\n",
        "\n",
        "  > Instrua sobre como instalar quaisquer bibliotecas adicionais, se necessário.\n",
        "\n",
        "* **Passo 03: Autenticação (se aplicável)**\n",
        "\n",
        "  > Descreva como configurar a autenticação, caso a API exija.\n",
        "\n",
        "  > Forneça orientações sobre a obtenção de chaves de API ou tokens.\n",
        "\n",
        "* **Passo 04: Utilização Básica da API**\n",
        "\n",
        "  > Demonstre como fazer uma solicitação simples à API.\n",
        "\n",
        "  > Mostre como processar a resposta da API.\n",
        "\n",
        "* **Passo 05: Exemplos Práticos**\n",
        "\n",
        "  > Forneça exemplos práticos e úteis que os leitores podem seguir.\n",
        "\n",
        "  > Mostre como aplicar a API em cenários do mundo real.\n",
        "\n",
        "\n",
        "* **Passo 06: Considerações**\n",
        "\n",
        "  > Recapitule os principais pontos do tutorial.\n",
        "\n",
        "  > Incentive os leitores a explorar mais a API e experimentar por conta própria.\n",
        "\n",
        "* **Passo 07: Publicação**\n",
        "\n",
        "   > Considere compartilhar seu tutorial em plataformas como Medium, GitHub (obrigatório) ou seu blog pessoal.\n",
        "\n",
        "* **Passo 08: Promoção**\n",
        "\n",
        "  > Compartilhe seu tutorial nas redes sociais, grupos de desenvolvedores e fóruns relevantes.\n",
        "\n",
        "**IMPORTANTE**: Lembre-se de manter o tutorial curto e direto ao ponto. Use exemplos de código eficazes e forneça informações práticas que os leitores possam seguir facilmente. O Google Colab é uma ótima plataforma para compartilhar tutoriais, pois permite que os leitores executem o código diretamente no navegador.\n"
      ],
      "metadata": {
        "id": "wbICIIGcYPNf"
      }
    },
    {
      "cell_type": "markdown",
      "source": [
        "### **CRITÉRIOS DE AVALIAÇÃO**\n",
        "---\n"
      ],
      "metadata": {
        "id": "gWsBYQNtxmum"
      }
    },
    {
      "cell_type": "markdown",
      "source": [
        "As 3 equipes que **criarem os melhores tutoriais**  terão o peso diminuido na AVALIAÇÃO (Prova Escrita) em **25%** (caindo de 40 para 30).\n",
        "\n",
        "**IMPORTANTE**: a diminuição no peso da AVALIAÇÃO será aplicado para todos os membros da equipe.\n",
        "\n",
        "\n",
        "\n"
      ],
      "metadata": {
        "id": "5iHdx4BXYruQ"
      }
    },
    {
      "cell_type": "markdown",
      "source": [
        "### **TUTORIAL**\n",
        "---"
      ],
      "metadata": {
        "id": "nw09lujGvfjc"
      }
    },
    {
      "cell_type": "markdown",
      "source": [
        "**API da Wikipedia**"
      ],
      "metadata": {
        "id": "5q9zcrJj0n4H"
      }
    },
    {
      "cell_type": "markdown",
      "source": [
        "**SUGESTÃO**: Usar o **ROTEIRO** para apresentação de uma **API**"
      ],
      "metadata": {
        "id": "AD7LiZNAaMzv"
      }
    },
    {
      "cell_type": "markdown",
      "source": [
        "#### **INTRODUÇÃO**"
      ],
      "metadata": {
        "id": "ZM2EJhRIaaa2"
      }
    },
    {
      "cell_type": "markdown",
      "source": [
        "**Descrição da API**"
      ],
      "metadata": {
        "id": "FjG5RIW5bMfd"
      }
    },
    {
      "cell_type": "markdown",
      "source": [
        "A API da Wikipedia é uma ferramenta poderosa para acessar informações da Wikipedia de forma programática. Ela é útil para informações de referência, pesquisa e automatização de tarefas de coleta de dados."
      ],
      "metadata": {
        "id": "7kndSzDVbQkd"
      }
    },
    {
      "cell_type": "markdown",
      "source": [
        "#### **CONFIGURAÇÃO**"
      ],
      "metadata": {
        "id": "5DIH_lmdaqrh"
      }
    },
    {
      "cell_type": "markdown",
      "source": [
        "Antes de utilizar a API é necessário realizar o *import* do pacote *requests*,\n",
        "para poder realizar as solicitações HTTP com o comando abaixo:"
      ],
      "metadata": {
        "id": "xu1zOG57wsZY"
      }
    },
    {
      "cell_type": "code",
      "source": [
        "import requests"
      ],
      "metadata": {
        "id": "oqM3mRBsbBYZ"
      },
      "execution_count": null,
      "outputs": []
    },
    {
      "cell_type": "markdown",
      "source": [
        "#### **AUTENTICAÇÃO (SE APLICÁVEL)**"
      ],
      "metadata": {
        "id": "SwZgsj4narLo"
      }
    },
    {
      "cell_type": "markdown",
      "source": [
        "Não necessária."
      ],
      "metadata": {
        "id": "F9DhKz3L5mgZ"
      }
    },
    {
      "cell_type": "markdown",
      "source": [
        "#### **UTILIZAÇÃO BÁSICA**"
      ],
      "metadata": {
        "id": "ZjXBfNHwarfV"
      }
    },
    {
      "cell_type": "markdown",
      "source": [
        "O *endpoint* da API segue o seguinte padrão:\n",
        "\n",
        "`https://www.exemplo.org/w/api.php`\n",
        "\n",
        "Como estamos interessados na versão em Português da Wikipedia usaremos:\n",
        "\n",
        "`https://pt.wikipedia.org/w/api.php`\n",
        "\n",
        "A partir deste *endpoint* iremos adicionar os parâmetros utilizados para\n",
        "realizar nossa *query*. Além disto é recomendado sempre definir um *header*\n",
        "contendo seu **User-Agent** de acordo com o formato [recomendado](https://meta.wikimedia.org/wiki/User-Agent_policy).\n",
        "\n",
        "Um exemplo de uso básico para a API consiste em concatenar os parâmetros\n",
        "da *query* desejados no *endpoint* acima e então processar a resposta."
      ],
      "metadata": {
        "id": "0tuQrRT53444"
      }
    },
    {
      "cell_type": "code",
      "source": [
        "page_name = \"Inteligência artificial\"  # Substitua pelo tópico desejado\n",
        "\n",
        "url = f\"https://pt.wikipedia.org/w/api.php?action=query&prop=extracts&exintro&explaintext&titles={page_name}&format=json\"\n",
        "\n",
        "headers = {\n",
        "    \"User-Agent\": \"SeuNomeDeUserAgent/1.0 (seu@email.com)\"  # Substitua pelo seu User-Agent adequado\n",
        "}\n",
        "\n",
        "response = requests.get(url, headers=headers)\n",
        "\n",
        "data = response.json()\n",
        "page_id = list(data['query']['pages'].keys())[0]\n",
        "page = data['query']['pages'][page_id]\n",
        "\n",
        "if page_id != '-1':\n",
        "    print(\"Título:\", page['title'])\n",
        "    print(\"Resumo:\", page['extract'][:200])  # Exibindo os primeiros 200 caracteres do resumo\n",
        "else:\n",
        "    print(\"A página não foi encontrada.\")"
      ],
      "metadata": {
        "id": "bNqB40PlbAWx",
        "colab": {
          "base_uri": "https://localhost:8080/"
        },
        "outputId": "cc62cdaa-f008-41ce-cf0a-c558c0c481d7"
      },
      "execution_count": null,
      "outputs": [
        {
          "output_type": "stream",
          "name": "stdout",
          "text": [
            "Título: Inteligência artificial\n",
            "Resumo: Inteligência artificial (de sigla: IA; do inglês: Artificial Intelligence, de sigla: AI) é um campo de estudo multidisciplinar que abrange varias áreas do conhecimento. Embora seu desenvolvimento tenh\n"
          ]
        }
      ]
    },
    {
      "cell_type": "markdown",
      "source": [
        "Além do metodo acima, também é possível realizar *queries* passando os\n",
        "parâmetros em um `dicionário` da linguagem Python, com mostrado abaixo:"
      ],
      "metadata": {
        "id": "-MY8FMxS-DSZ"
      }
    },
    {
      "cell_type": "code",
      "source": [
        "url = 'https://pt.wikipedia.org/w/api.php'\n",
        "params = {\n",
        "    'action': 'query',\n",
        "    'format': 'json',\n",
        "    'titles': page_name,\n",
        "    'prop': 'extracts',\n",
        "    'exintro': True,\n",
        "    'explaintext': True,\n",
        "}\n",
        "\n",
        "response = requests.get(url, params=params)\n",
        "data = response.json()\n",
        "page_id = list(data['query']['pages'].keys())[0]\n",
        "\n",
        "\n",
        "if page_id != '-1':\n",
        "    print(\"Título:\", page['title'])\n",
        "    print(\"Resumo:\", page['extract'][:200])  # Exibindo os primeiros 200 caracteres do resumo\n",
        "else:\n",
        "    print(\"A página não foi encontrada.\")"
      ],
      "metadata": {
        "colab": {
          "base_uri": "https://localhost:8080/"
        },
        "id": "rTLaBLsU-9bp",
        "outputId": "753ef4ed-e11a-48b7-c3ad-83ab54593a1d"
      },
      "execution_count": null,
      "outputs": [
        {
          "output_type": "stream",
          "name": "stdout",
          "text": [
            "Título: Inteligência artificial\n",
            "Resumo: Inteligência artificial (de sigla: IA; do inglês: Artificial Intelligence, de sigla: AI) é um campo de estudo multidisciplinar que abrange varias áreas do conhecimento. Embora seu desenvolvimento tenh\n"
          ]
        }
      ]
    },
    {
      "cell_type": "markdown",
      "source": [
        "Nos últimos 2 exemplos recebemos o conteúdo da resposta no formato JSON e\n",
        "acessamos alguns parâmetros deste JSON como `query` e `pages` para conseguir os\n",
        "dados desejados. Uma lista completa dos argumentos disponíveis e explicações de\n",
        "seus usos se encontra na [Documentação Oficial](https://en.wikipedia.org/w/api.php)\n",
        "\n",
        "Outros parâmetros importantes de serem estudados são os parâmetros passados\n",
        "para a a *query* em si no dicionário:\n",
        "\n",
        "``` python\n",
        "params = {\n",
        "    'action': 'query',\n",
        "    'format': 'json',\n",
        "    'titles': page_name,\n",
        "    'prop': 'extracts',\n",
        "    'exintro': True,\n",
        "    'explaintext': True,\n",
        "}\n",
        "\n",
        "```\n",
        "\n",
        "É através deles que definimos a ação a ser realizada pela API. Por exemplo nos\n",
        "dois casos anteriores, onde foi buscado um artigo utilizando seu título, foi\n",
        "passado o argumento `'titles': page_name`, indicando uma busca direta pelo\n",
        "título. Caso fosse desejado realizar uma pesquisa por palavras-chave, teriamos\n",
        "que utilizar os seguintes argumentos: `'srearch': termo_da_busca` e `'list': 'search'`, onde `termo_da_busca` são as palavras-chave a serem utilizadas. O exemplo anterior\n",
        "com o código completo seria:"
      ],
      "metadata": {
        "id": "WjmqA2MOAKRy"
      }
    },
    {
      "cell_type": "code",
      "source": [
        "url = 'https://pt.wikipedia.org/w/api.php'\n",
        "query = 'linguagem natural'\n",
        "params = {\n",
        "    'action': 'query',\n",
        "    'format': 'json',\n",
        "    'list': 'search',\n",
        "    'srsearch': query # Busca pelo padrao no titulo e conteudo da pagina\n",
        "}\n",
        "\n",
        "response = requests.get(url, params=params)\n",
        "data = response.json()\n",
        "\n",
        "for i in data['query']['search']:\n",
        "  print(i['title'])"
      ],
      "metadata": {
        "colab": {
          "base_uri": "https://localhost:8080/"
        },
        "id": "X8VIvbI_Tto8",
        "outputId": "b2636cb6-df99-4b90-d238-2253497bd6d5"
      },
      "execution_count": null,
      "outputs": [
        {
          "output_type": "stream",
          "name": "stdout",
          "text": [
            "Língua natural\n",
            "Processamento de linguagem natural\n",
            "Linguagem\n",
            "Entendimento de linguagem natural\n",
            "Linguagem de programação\n",
            "Língua artificial\n",
            "Porta AND\n",
            "OR\n",
            "Conectivo lógico\n",
            "Modelo de linguagem grande\n"
          ]
        }
      ]
    },
    {
      "cell_type": "markdown",
      "source": [
        "Uma listagem completa de todos os parâmetros de *query* suportados pela API, bem\n",
        "como uma explicação de seus usos podem ser encontrados na página da documentação\n",
        "dedicada a [query](https://en.wikipedia.org/w/api.php?action=help&modules=query)."
      ],
      "metadata": {
        "id": "ZIMEay-UWdJN"
      }
    },
    {
      "cell_type": "markdown",
      "source": [
        "#### **EXEMPLOS PRÁTICOS**"
      ],
      "metadata": {
        "id": "marqph_raryN"
      }
    },
    {
      "cell_type": "markdown",
      "source": [
        "##### Exemplo 1: Pesquisando e exibindo uma lista de resultados"
      ],
      "metadata": {
        "id": "YmMHhng1BLWy"
      }
    },
    {
      "cell_type": "code",
      "source": [
        "# Exemplo 1: Pesquisando e exibindo uma lista de resultados\n",
        "search_query = \"Processamento de linguagem natural\"  # Substitua pela consulta desejada\n",
        "\n",
        "url = f\"https://pt.wikipedia.org/w/api.php?action=query&list=search&srsearch={search_query}&format=json\"\n",
        "\n",
        "search_results = requests.get(url, headers=headers).json()\n",
        "\n",
        "if 'query' in search_results and 'search' in search_results['query']:\n",
        "    print(\"Resultados para a consulta:\", search_query)\n",
        "    for result in search_results['query']['search']:\n",
        "        print(\"Título:\", result['title'])\n",
        "else:\n",
        "    print(\"Nenhum resultado encontrado para a consulta:\", search_query)"
      ],
      "metadata": {
        "id": "aL49vegTa_4e",
        "colab": {
          "base_uri": "https://localhost:8080/"
        },
        "outputId": "a5555866-57d0-411a-d882-60cef43927b1"
      },
      "execution_count": null,
      "outputs": [
        {
          "output_type": "stream",
          "name": "stdout",
          "text": [
            "Resultados para a consulta: Processamento de linguagem natural\n",
            "Título: Processamento de linguagem natural\n",
            "Título: Língua natural\n",
            "Título: Entendimento de linguagem natural\n",
            "Título: ELIZA\n",
            "Título: Modelo de linguagem grande\n",
            "Título: ChatGPT\n",
            "Título: BERT (modelo de linguagem)\n",
            "Título: Modelo de linguagem\n",
            "Título: DALL-E\n",
            "Título: Tf–idf\n"
          ]
        }
      ]
    },
    {
      "cell_type": "markdown",
      "source": [
        "##### Exemplo 2: Retornando Parágrafos Relevantes de um Artigo"
      ],
      "metadata": {
        "id": "wXQW1872BVn8"
      }
    },
    {
      "cell_type": "code",
      "source": [
        "#Exemplo 2: Retornando Parágrafos Relevantes de um Artigo\n",
        "import re\n",
        "article_title = \"Processamento de linguagem natural\"  # Substitua pelo título do artigo desejado\n",
        "\n",
        "url = f\"https://pt.wikipedia.org/w/api.php?action=parse&page={article_title}&format=json\"\n",
        "\n",
        "article_data = requests.get(url, headers=headers).json()\n",
        "\n",
        "if 'parse' in article_data:\n",
        "    print(\"Título:\", article_data['parse']['title'])\n",
        "    parsed_text = article_data['parse']['text']['*']\n",
        "    relevant_paragraphs = []\n",
        "\n",
        "    # Separar o conteúdo do artigo em parágrafos\n",
        "    paragraphs = parsed_text.split(\"<p>\")\n",
        "    # Exibir os primeiros 3 parágrafos\n",
        "    for paragraph in paragraphs[1:4]:  # Ignorar o primeiro parágrafo vazio\n",
        "      clean_paragraph = re.sub(r\"<.*?>\", \"\", paragraph)  # Remover tags HTML\n",
        "      relevant_paragraphs.append(clean_paragraph)\n",
        "\n",
        "    for idx, paragraph in enumerate(relevant_paragraphs):\n",
        "      print(f\"Parágrafo {idx + 1}:\\n{paragraph}\\n\")"
      ],
      "metadata": {
        "colab": {
          "base_uri": "https://localhost:8080/"
        },
        "id": "Ek5vHuKNBaj0",
        "outputId": "aab47b60-9c8e-4842-e1d4-f9933e6fc7d9"
      },
      "execution_count": null,
      "outputs": [
        {
          "output_type": "stream",
          "name": "stdout",
          "text": [
            "Título: Processamento de linguagem natural\n",
            "Parágrafo 1:\n",
            "Processamento de língua natural (PLN) é uma subárea da ciência da computação, inteligência artificial e da linguística que estuda os problemas da geração e compreensão automática de línguas humanas naturais. Sistemas de geração de língua natural convertem informação de bancos de dados de computadores em linguagem compreensível ao ser humano e sistemas de compreensão de língua natural convertem ocorrências de linguagem humana em representações mais formais, mais facilmente manipuláveis por programas de computador. Alguns desafios do PLN são compreensão de língua natural, fazer com que computadores extraiam sentido de linguagem humana ou natural e geração de língua natural.\n",
            "\n",
            "\n",
            "História[editar | editar código-fonte]\n",
            "\n",
            "\n",
            "Parágrafo 2:\n",
            "A história do PLN começou na década de 1950, quando Alan Turing publicou o artigo \"Computing Machinery and Intelligence\", que propunha o que agora é chamado de teste de Turing como critério de inteligência.\n",
            "\n",
            "\n",
            "Parágrafo 3:\n",
            "Em 1954, a experiência de Georgetown envolveu a tradução automática de mais de sessenta frases russas para o inglês. Os autores afirmaram que dentro de três ou cinco anos a tradução automática seria um problema resolvido.[2] No entanto, os avanços reais foram muito mais lentos do que o previsto e, após o relatório ALPAC em 1966, que constatou que a pesquisa de dez anos não conseguiu satisfazer as expectativas, o financiamento para este estudo em tradução automática foi reduzido drasticamente. Poucas pesquisas em tradução automática foram conduzidas até o final dos anos 80, quando os primeiros sistemas estatísticos de tradução foram desenvolvidos.\n",
            "\n",
            "\n"
          ]
        }
      ]
    },
    {
      "cell_type": "markdown",
      "source": [
        "##### Exemplo 3: Acessando o conteúdo completo de um artigo"
      ],
      "metadata": {
        "id": "X_Jdyz_2Bcqh"
      }
    },
    {
      "cell_type": "code",
      "source": [
        "article_title = \"Processamento de linguagem natural\"  # Substitua pelo título do artigo desejado\n",
        "\n",
        "url = f\"https://pt.wikipedia.org/w/api.php?action=parse&page={article_title}&format=json\"\n",
        "\n",
        "article_data = requests.get(url, headers=headers).json()\n",
        "\n",
        "if 'parse' in article_data:\n",
        "    print(\"Título:\", article_data['parse']['title'])\n",
        "    print(\"Conteúdo Completo:\\n\", article_data['parse']['text']['*'])\n",
        "else:\n",
        "    print(\"O artigo não foi encontrado:\", article_title)"
      ],
      "metadata": {
        "colab": {
          "base_uri": "https://localhost:8080/"
        },
        "id": "JyVHFvYtBhmJ",
        "outputId": "9e79cb2c-8150-4ee5-d600-70ef17aa5a3e"
      },
      "execution_count": null,
      "outputs": [
        {
          "output_type": "stream",
          "name": "stdout",
          "text": [
            "Título: Processamento de linguagem natural\n",
            "Conteúdo Completo:\n",
            " <div class=\"mw-parser-output\"><style data-mw-deduplicate=\"TemplateStyles:r57062225\">body.skin-vector .mw-parser-output th.mbox-text,body.skin-vector .mw-parser-output td.mbox-text,body.skin-cologneblue .mw-parser-output th.mbox-text,body.skin-cologneblue .mw-parser-output td.mbox-text,body.skin-modern .mw-parser-output th.mbox-text,body.skin-modern .mw-parser-output td.mbox-text,body.skin-monobook .mw-parser-output th.mbox-text,body.skin-monobook .mw-parser-output td.mbox-text,body.skin-timeless .mw-parser-output th.mbox-text,body.skin-timeless .mw-parser-output td.mbox-text{border:none;padding:0.25em 0.9em;width:100%}body.skin-vector .mw-parser-output td.mbox-image,body.skin-cologneblue .mw-parser-output td.mbox-image,body.skin-modern .mw-parser-output td.mbox-image,body.skin-monobook .mw-parser-output td.mbox-image,body.skin-timeless .mw-parser-output td.mbox-image{border:none;padding:2px 0 2px 0.9em;text-align:center}body.skin-vector .mw-parser-output td.mbox-imageright,body.skin-cologneblue .mw-parser-output td.mbox-imageright,body.skin-modern .mw-parser-output td.mbox-imageright,body.skin-monobook .mw-parser-output td.mbox-imageright,body.skin-timeless .mw-parser-output td.mbox-imageright{border:none;padding:2px 0.9em 2px 0;text-align:center}body.skin-vector .mw-parser-output td.mbox-empty-cell,body.skin-cologneblue .mw-parser-output td.mbox-empty-cell,body.skin-modern .mw-parser-output td.mbox-empty-cell,body.skin-monobook .mw-parser-output td.mbox-empty-cell,body.skin-timeless .mw-parser-output td.mbox-empty-cell{border:none;padding:0;width:1px}body.skin-vector .mw-parser-output table.ambox,body.skin-cologneblue .mw-parser-output table.ambox,body.skin-modern .mw-parser-output table.ambox,body.skin-monobook .mw-parser-output table.ambox,body.skin-timeless .mw-parser-output table.ambox{margin:0 10%;border:1px solid #C7C7C7;border-left:10px solid #93C9FF;background-color:#FAFAFA;box-sizing:border-box}body.skin-vector .mw-parser-output table.ambox+table.ambox,body.skin-cologneblue .mw-parser-output table.ambox+table.ambox,body.skin-modern .mw-parser-output table.ambox+table.ambox,body.skin-monobook .mw-parser-output table.ambox+table.ambox,body.skin-timeless .mw-parser-output table.ambox+table.ambox{margin-top:-1px}body.skin-vector .mw-parser-output .ambox th.mbox-text,body.skin-vector .mw-parser-output .ambox td.mbox-text,body.skin-cologneblue .mw-parser-output .ambox th.mbox-text,body.skin-cologneblue .mw-parser-output .ambox td.mbox-text,body.skin-modern .mw-parser-output .ambox th.mbox-text,body.skin-modern .mw-parser-output .ambox td.mbox-text,body.skin-monobook .mw-parser-output .ambox th.mbox-text,body.skin-monobook .mw-parser-output .ambox td.mbox-text,body.skin-timeless .mw-parser-output .ambox th.mbox-text,body.skin-timeless .mw-parser-output .ambox td.mbox-text{padding:0.25em 0.5em}body.skin-vector .mw-parser-output .ambox td.mbox-image,body.skin-cologneblue .mw-parser-output .ambox td.mbox-image,body.skin-modern .mw-parser-output .ambox td.mbox-image,body.skin-monobook .mw-parser-output .ambox td.mbox-image,body.skin-timeless .mw-parser-output .ambox td.mbox-image{padding:2px 0 2px 0.5em}body.skin-vector .mw-parser-output .ambox td.mbox-imageright,body.skin-cologneblue .mw-parser-output .ambox td.mbox-imageright,body.skin-modern .mw-parser-output .ambox td.mbox-imageright,body.skin-monobook .mw-parser-output .ambox td.mbox-imageright,body.skin-timeless .mw-parser-output .ambox td.mbox-imageright{padding:2px 0.5em 2px 0}body.skin-vector .mw-parser-output table.ambox-notice,body.skin-cologneblue .mw-parser-output table.ambox-notice,body.skin-modern .mw-parser-output table.ambox-notice,body.skin-monobook .mw-parser-output table.ambox-notice,body.skin-timeless .mw-parser-output table.ambox-notice{border-left:10px solid #93C9FF}body.skin-vector .mw-parser-output table.ambox-speedy,body.skin-cologneblue .mw-parser-output table.ambox-speedy,body.skin-modern .mw-parser-output table.ambox-speedy,body.skin-monobook .mw-parser-output table.ambox-speedy,body.skin-timeless .mw-parser-output table.ambox-speedy{border-left:10px solid #B60000;background-color:#FFEBEB}body.skin-vector .mw-parser-output table.ambox-delete,body.skin-cologneblue .mw-parser-output table.ambox-delete,body.skin-modern .mw-parser-output table.ambox-delete,body.skin-monobook .mw-parser-output table.ambox-delete,body.skin-timeless .mw-parser-output table.ambox-delete{border-left:10px solid #B60000}body.skin-vector .mw-parser-output table.ambox-content,body.skin-cologneblue .mw-parser-output table.ambox-content,body.skin-modern .mw-parser-output table.ambox-content,body.skin-monobook .mw-parser-output table.ambox-content,body.skin-timeless .mw-parser-output table.ambox-content{border-left:10px solid #FFB56B}body.skin-vector .mw-parser-output table.ambox-style,body.skin-cologneblue .mw-parser-output table.ambox-style,body.skin-modern .mw-parser-output table.ambox-style,body.skin-monobook .mw-parser-output table.ambox-style,body.skin-timeless .mw-parser-output table.ambox-style{border-left:10px solid #FFE411}body.skin-vector .mw-parser-output table.ambox-move,body.skin-cologneblue .mw-parser-output table.ambox-move,body.skin-modern .mw-parser-output table.ambox-move,body.skin-monobook .mw-parser-output table.ambox-move,body.skin-timeless .mw-parser-output table.ambox-move{border-left:10px solid #840084}body.skin-vector .mw-parser-output table.ambox-protection,body.skin-cologneblue .mw-parser-output table.ambox-protection,body.skin-modern .mw-parser-output table.ambox-protection,body.skin-monobook .mw-parser-output table.ambox-protection,body.skin-timeless .mw-parser-output table.ambox-protection{border-left:10px solid #C7C7C7}body.skin-vector .mw-parser-output table.imbox,body.skin-cologneblue .mw-parser-output table.imbox,body.skin-modern .mw-parser-output table.imbox,body.skin-monobook .mw-parser-output table.imbox,body.skin-timeless .mw-parser-output table.imbox{margin:4px 10%;border-collapse:collapse;border:3px solid #93C9FF;background-color:#FAFAFA;box-sizing:border-box}body.skin-vector .mw-parser-output .imbox .mbox-text .imbox,body.skin-cologneblue .mw-parser-output .imbox .mbox-text .imbox,body.skin-modern .mw-parser-output .imbox .mbox-text .imbox,body.skin-monobook .mw-parser-output .imbox .mbox-text .imbox,body.skin-timeless .mw-parser-output .imbox .mbox-text .imbox{margin:0 -0.5em;display:block}body.skin-vector .mw-parser-output .mbox-inside .imbox,body.skin-cologneblue .mw-parser-output .mbox-inside .imbox,body.skin-modern .mw-parser-output .mbox-inside .imbox,body.skin-monobook .mw-parser-output .mbox-inside .imbox,body.skin-timeless .mw-parser-output .mbox-inside .imbox{margin:4px}body.skin-vector .mw-parser-output table.imbox-notice,body.skin-cologneblue .mw-parser-output table.imbox-notice,body.skin-modern .mw-parser-output table.imbox-notice,body.skin-monobook .mw-parser-output table.imbox-notice,body.skin-timeless .mw-parser-output table.imbox-notice{border:3px solid #93C9FF}body.skin-vector .mw-parser-output table.imbox-speedy,body.skin-cologneblue .mw-parser-output table.imbox-speedy,body.skin-modern .mw-parser-output table.imbox-speedy,body.skin-monobook .mw-parser-output table.imbox-speedy,body.skin-timeless .mw-parser-output table.imbox-speedy{border:3px solid #B60000;background-color:#FFEBEB}body.skin-vector .mw-parser-output table.imbox-delete,body.skin-cologneblue .mw-parser-output table.imbox-delete,body.skin-modern .mw-parser-output table.imbox-delete,body.skin-monobook .mw-parser-output table.imbox-delete,body.skin-timeless .mw-parser-output table.imbox-delete{border:3px solid #B60000}body.skin-vector .mw-parser-output table.imbox-content,body.skin-cologneblue .mw-parser-output table.imbox-content,body.skin-modern .mw-parser-output table.imbox-content,body.skin-monobook .mw-parser-output table.imbox-content,body.skin-timeless .mw-parser-output table.imbox-content{border:3px solid #FFB56B}body.skin-vector .mw-parser-output table.imbox-style,body.skin-cologneblue .mw-parser-output table.imbox-style,body.skin-modern .mw-parser-output table.imbox-style,body.skin-monobook .mw-parser-output table.imbox-style,body.skin-timeless .mw-parser-output table.imbox-style{border:3px solid #FFE411}body.skin-vector .mw-parser-output table.imbox-move,body.skin-cologneblue .mw-parser-output table.imbox-move,body.skin-modern .mw-parser-output table.imbox-move,body.skin-monobook .mw-parser-output table.imbox-move,body.skin-timeless .mw-parser-output table.imbox-move{border:3px solid #840084}body.skin-vector .mw-parser-output table.imbox-protection,body.skin-cologneblue .mw-parser-output table.imbox-protection,body.skin-modern .mw-parser-output table.imbox-protection,body.skin-monobook .mw-parser-output table.imbox-protection,body.skin-timeless .mw-parser-output table.imbox-protection{border:3px solid #C7C7C7}body.skin-vector .mw-parser-output table.imbox-license,body.skin-cologneblue .mw-parser-output table.imbox-license,body.skin-modern .mw-parser-output table.imbox-license,body.skin-monobook .mw-parser-output table.imbox-license,body.skin-timeless .mw-parser-output table.imbox-license{border:3px solid #C7C7C7;background-color:#FAFAFA}body.skin-vector .mw-parser-output table.imbox-featured,body.skin-cologneblue .mw-parser-output table.imbox-featured,body.skin-modern .mw-parser-output table.imbox-featured,body.skin-monobook .mw-parser-output table.imbox-featured,body.skin-timeless .mw-parser-output table.imbox-featured{border:3px solid #FFB56B}body.skin-vector .mw-parser-output table.cmbox,body.skin-cologneblue .mw-parser-output table.cmbox,body.skin-modern .mw-parser-output table.cmbox,body.skin-monobook .mw-parser-output table.cmbox,body.skin-timeless .mw-parser-output table.cmbox{margin:3px 10%;border-collapse:collapse;border:1px solid #C7C7C7;background-color:#C9E4FF;box-sizing:border-box}body.skin-vector .mw-parser-output table.cmbox-notice,body.skin-cologneblue .mw-parser-output table.cmbox-notice,body.skin-modern .mw-parser-output table.cmbox-notice,body.skin-monobook .mw-parser-output table.cmbox-notice,body.skin-timeless .mw-parser-output table.cmbox-notice{background-color:#C9E4FF}body.skin-vector .mw-parser-output table.cmbox-speedy,body.skin-cologneblue .mw-parser-output table.cmbox-speedy,body.skin-modern .mw-parser-output table.cmbox-speedy,body.skin-monobook .mw-parser-output table.cmbox-speedy,body.skin-timeless .mw-parser-output table.cmbox-speedy{margin-top:4px;margin-bottom:4px;border:4px solid #B60000;background-color:#FFEBEB}body.skin-vector .mw-parser-output table.cmbox-delete,body.skin-cologneblue .mw-parser-output table.cmbox-delete,body.skin-modern .mw-parser-output table.cmbox-delete,body.skin-monobook .mw-parser-output table.cmbox-delete,body.skin-timeless .mw-parser-output table.cmbox-delete{background-color:#FFEBEB}body.skin-vector .mw-parser-output table.cmbox-content,body.skin-cologneblue .mw-parser-output table.cmbox-content,body.skin-modern .mw-parser-output table.cmbox-content,body.skin-monobook .mw-parser-output table.cmbox-content,body.skin-timeless .mw-parser-output table.cmbox-content{background-color:#FFEDDA}body.skin-vector .mw-parser-output table.cmbox-style,body.skin-cologneblue .mw-parser-output table.cmbox-style,body.skin-modern .mw-parser-output table.cmbox-style,body.skin-monobook .mw-parser-output table.cmbox-style,body.skin-timeless .mw-parser-output table.cmbox-style{background-color:#FFFDE8}body.skin-vector .mw-parser-output table.cmbox-move,body.skin-cologneblue .mw-parser-output table.cmbox-move,body.skin-modern .mw-parser-output table.cmbox-move,body.skin-monobook .mw-parser-output table.cmbox-move,body.skin-timeless .mw-parser-output table.cmbox-move{background-color:#DFDFFF}body.skin-vector .mw-parser-output table.cmbox-protection,body.skin-cologneblue .mw-parser-output table.cmbox-protection,body.skin-modern .mw-parser-output table.cmbox-protection,body.skin-monobook .mw-parser-output table.cmbox-protection,body.skin-timeless .mw-parser-output table.cmbox-protection{background-color:#F2FFF2}body.skin-vector .mw-parser-output table.ombox,body.skin-cologneblue .mw-parser-output table.ombox,body.skin-modern .mw-parser-output table.ombox,body.skin-monobook .mw-parser-output table.ombox,body.skin-timeless .mw-parser-output table.ombox{margin:4px 10%;border-collapse:collapse;border:1px solid #C7C7C7;background-color:#F9F9FF;box-sizing:border-box}body.skin-vector .mw-parser-output table.ombox-notice,body.skin-cologneblue .mw-parser-output table.ombox-notice,body.skin-modern .mw-parser-output table.ombox-notice,body.skin-monobook .mw-parser-output table.ombox-notice,body.skin-timeless .mw-parser-output table.ombox-notice{border:1px solid #C7C7C7}body.skin-vector .mw-parser-output table.ombox-speedy,body.skin-cologneblue .mw-parser-output table.ombox-speedy,body.skin-modern .mw-parser-output table.ombox-speedy,body.skin-monobook .mw-parser-output table.ombox-speedy,body.skin-timeless .mw-parser-output table.ombox-speedy{border:2px solid #B60000;background-color:#FFEBEB}body.skin-vector .mw-parser-output table.ombox-delete,body.skin-cologneblue .mw-parser-output table.ombox-delete,body.skin-modern .mw-parser-output table.ombox-delete,body.skin-monobook .mw-parser-output table.ombox-delete,body.skin-timeless .mw-parser-output table.ombox-delete{border:2px solid #B60000}body.skin-vector .mw-parser-output table.ombox-content,body.skin-cologneblue .mw-parser-output table.ombox-content,body.skin-modern .mw-parser-output table.ombox-content,body.skin-monobook .mw-parser-output table.ombox-content,body.skin-timeless .mw-parser-output table.ombox-content{border:1px solid #FFB56B}body.skin-vector .mw-parser-output table.ombox-style,body.skin-cologneblue .mw-parser-output table.ombox-style,body.skin-modern .mw-parser-output table.ombox-style,body.skin-monobook .mw-parser-output table.ombox-style,body.skin-timeless .mw-parser-output table.ombox-style{border:1px solid #FFE411}body.skin-vector .mw-parser-output table.ombox-move,body.skin-cologneblue .mw-parser-output table.ombox-move,body.skin-modern .mw-parser-output table.ombox-move,body.skin-monobook .mw-parser-output table.ombox-move,body.skin-timeless .mw-parser-output table.ombox-move{border:1px solid #840084}body.skin-vector .mw-parser-output table.ombox-protection,body.skin-cologneblue .mw-parser-output table.ombox-protection,body.skin-modern .mw-parser-output table.ombox-protection,body.skin-monobook .mw-parser-output table.ombox-protection,body.skin-timeless .mw-parser-output table.ombox-protection{border:2px solid #C7C7C7}body.skin-vector .mw-parser-output table.tmbox,body.skin-cologneblue .mw-parser-output table.tmbox,body.skin-modern .mw-parser-output table.tmbox,body.skin-monobook .mw-parser-output table.tmbox,body.skin-timeless .mw-parser-output table.tmbox{margin:4px 10%;border-collapse:collapse;border:1px solid #655900;background-color:#FFEDDA;min-width:80%;box-sizing:border-box}body.skin-vector .mw-parser-output .tmbox.mbox-small,body.skin-cologneblue .mw-parser-output .tmbox.mbox-small,body.skin-modern .mw-parser-output .tmbox.mbox-small,body.skin-monobook .mw-parser-output .tmbox.mbox-small,body.skin-timeless .mw-parser-output .tmbox.mbox-small{min-width:0}body.skin-vector .mw-parser-output .mediawiki .mbox-inside .tmbox,body.skin-cologneblue .mw-parser-output .mediawiki .mbox-inside .tmbox,body.skin-modern .mw-parser-output .mediawiki .mbox-inside .tmbox,body.skin-monobook .mw-parser-output .mediawiki .mbox-inside .tmbox,body.skin-timeless .mw-parser-output .mediawiki .mbox-inside .tmbox{margin:2px 0;width:100%}body.skin-vector .mw-parser-output .mbox-inside .tmbox.mbox-small,body.skin-cologneblue .mw-parser-output .mbox-inside .tmbox.mbox-small,body.skin-modern .mw-parser-output .mbox-inside .tmbox.mbox-small,body.skin-monobook .mw-parser-output .mbox-inside .tmbox.mbox-small,body.skin-timeless .mw-parser-output .mbox-inside .tmbox.mbox-small{line-height:1.5em;font-size:100%}body.skin-vector .mw-parser-output table.tmbox-speedy,body.skin-cologneblue .mw-parser-output table.tmbox-speedy,body.skin-modern .mw-parser-output table.tmbox-speedy,body.skin-monobook .mw-parser-output table.tmbox-speedy,body.skin-timeless .mw-parser-output table.tmbox-speedy{border:2px solid #B60000;background-color:#FFEBEB}body.skin-vector .mw-parser-output table.tmbox-delete,body.skin-cologneblue .mw-parser-output table.tmbox-delete,body.skin-modern .mw-parser-output table.tmbox-delete,body.skin-monobook .mw-parser-output table.tmbox-delete,body.skin-timeless .mw-parser-output table.tmbox-delete{border:2px solid #B60000}body.skin-vector .mw-parser-output table.tmbox-content,body.skin-cologneblue .mw-parser-output table.tmbox-content,body.skin-modern .mw-parser-output table.tmbox-content,body.skin-monobook .mw-parser-output table.tmbox-content,body.skin-timeless .mw-parser-output table.tmbox-content{border:2px solid #FFB56B}body.skin-vector .mw-parser-output table.tmbox-style,body.skin-cologneblue .mw-parser-output table.tmbox-style,body.skin-modern .mw-parser-output table.tmbox-style,body.skin-monobook .mw-parser-output table.tmbox-style,body.skin-timeless .mw-parser-output table.tmbox-style{border:2px solid #FFE411}body.skin-vector .mw-parser-output table.tmbox-move,body.skin-cologneblue .mw-parser-output table.tmbox-move,body.skin-modern .mw-parser-output table.tmbox-move,body.skin-monobook .mw-parser-output table.tmbox-move,body.skin-timeless .mw-parser-output table.tmbox-move{border:2px solid #840084}body.skin-vector .mw-parser-output table.tmbox-protection,body.skin-vector .mw-parser-output table.tmbox-notice,body.skin-cologneblue .mw-parser-output table.tmbox-protection,body.skin-cologneblue .mw-parser-output table.tmbox-notice,body.skin-modern .mw-parser-output table.tmbox-protection,body.skin-modern .mw-parser-output table.tmbox-notice,body.skin-monobook .mw-parser-output table.tmbox-protection,body.skin-monobook .mw-parser-output table.tmbox-notice,body.skin-timeless .mw-parser-output table.tmbox-protection,body.skin-timeless .mw-parser-output table.tmbox-notice{border:1px solid #655900}body.skin-vector .mw-parser-output table.dmbox,body.skin-cologneblue .mw-parser-output table.dmbox,body.skin-modern .mw-parser-output table.dmbox,body.skin-monobook .mw-parser-output table.dmbox,body.skin-timeless .mw-parser-output table.dmbox{clear:both;margin:0.9em 1em;border-top:1px solid #C7C7C7;border-bottom:1px solid #C7C7C7;background-color:transparent}body.skin-vector .mw-parser-output table.fmbox,body.skin-cologneblue .mw-parser-output table.fmbox,body.skin-modern .mw-parser-output table.fmbox,body.skin-monobook .mw-parser-output table.fmbox,body.skin-timeless .mw-parser-output table.fmbox{clear:both;margin:0.2em 0;width:100%;border:1px solid #C7C7C7;background-color:#F9F9FF;box-sizing:border-box}body.skin-vector .mw-parser-output table.fmbox-system,body.skin-cologneblue .mw-parser-output table.fmbox-system,body.skin-modern .mw-parser-output table.fmbox-system,body.skin-monobook .mw-parser-output table.fmbox-system,body.skin-timeless .mw-parser-output table.fmbox-system{background-color:#F9F9FF}body.skin-vector .mw-parser-output table.fmbox-warning,body.skin-cologneblue .mw-parser-output table.fmbox-warning,body.skin-modern .mw-parser-output table.fmbox-warning,body.skin-monobook .mw-parser-output table.fmbox-warning,body.skin-timeless .mw-parser-output table.fmbox-warning{border:1px solid #8C4600;background-color:#FFEBEB}body.skin-vector .mw-parser-output table.fmbox-editnotice,body.skin-cologneblue .mw-parser-output table.fmbox-editnotice,body.skin-modern .mw-parser-output table.fmbox-editnotice,body.skin-monobook .mw-parser-output table.fmbox-editnotice,body.skin-timeless .mw-parser-output table.fmbox-editnotice{background-color:transparent}body.skin-vector .mw-parser-output div.mw-warning-with-logexcerpt,body.skin-vector .mw-parser-output div.mw-lag-warn-high,body.skin-vector .mw-parser-output div.mw-cascadeprotectedwarning,body.skin-vector .mw-parser-output div/**/#mw-protect-cascadeon,body.skin-vector .mw-parser-output div.titleblacklist-warning,body.skin-vector .mw-parser-output div.locked-warning,body.skin-cologneblue .mw-parser-output div.mw-warning-with-logexcerpt,body.skin-cologneblue .mw-parser-output div.mw-lag-warn-high,body.skin-cologneblue .mw-parser-output div.mw-cascadeprotectedwarning,body.skin-cologneblue .mw-parser-output div/**/#mw-protect-cascadeon,body.skin-cologneblue .mw-parser-output div.titleblacklist-warning,body.skin-cologneblue .mw-parser-output div.locked-warning,body.skin-modern .mw-parser-output div.mw-warning-with-logexcerpt,body.skin-modern .mw-parser-output div.mw-lag-warn-high,body.skin-modern .mw-parser-output div.mw-cascadeprotectedwarning,body.skin-modern .mw-parser-output div/**/#mw-protect-cascadeon,body.skin-modern .mw-parser-output div.titleblacklist-warning,body.skin-modern .mw-parser-output div.locked-warning,body.skin-monobook .mw-parser-output div.mw-warning-with-logexcerpt,body.skin-monobook .mw-parser-output div.mw-lag-warn-high,body.skin-monobook .mw-parser-output div.mw-cascadeprotectedwarning,body.skin-monobook .mw-parser-output div/**/#mw-protect-cascadeon,body.skin-monobook .mw-parser-output div.titleblacklist-warning,body.skin-monobook .mw-parser-output div.locked-warning,body.skin-timeless .mw-parser-output div.mw-warning-with-logexcerpt,body.skin-timeless .mw-parser-output div.mw-lag-warn-high,body.skin-timeless .mw-parser-output div.mw-cascadeprotectedwarning,body.skin-timeless .mw-parser-output div/**/#mw-protect-cascadeon,body.skin-timeless .mw-parser-output div.titleblacklist-warning,body.skin-timeless .mw-parser-output div.locked-warning{clear:both;margin:0.2em 0;border:1px solid #8C4600;background-color:#FFEBEB;padding:0.25em 0.9em;box-sizing:border-box}body.skin-vector .mw-parser-output .mbox-small,body.skin-cologneblue .mw-parser-output .mbox-small,body.skin-modern .mw-parser-output .mbox-small,body.skin-monobook .mw-parser-output .mbox-small,body.skin-timeless .mw-parser-output .mbox-small{clear:right;float:right;margin:4px 0 4px 1em;box-sizing:border-box;width:238px;font-size:88%;line-height:1.25em}body.skin-vector .mw-parser-output .mbox-small-left,body.skin-cologneblue .mw-parser-output .mbox-small-left,body.skin-modern .mw-parser-output .mbox-small-left,body.skin-monobook .mw-parser-output .mbox-small-left,body.skin-timeless .mw-parser-output .mbox-small-left{margin:4px 1em 4px 0;box-sizing:border-box;overflow:hidden;width:238px;border-collapse:collapse;font-size:88%;line-height:1.25em}body.skin-vector .mw-parser-output .compact-ambox table .mbox-image,body.skin-vector .mw-parser-output .compact-ambox table .mbox-imageright,body.skin-vector .mw-parser-output .compact-ambox table .mbox-empty-cell,body.skin-cologneblue .mw-parser-output .compact-ambox table .mbox-image,body.skin-cologneblue .mw-parser-output .compact-ambox table .mbox-imageright,body.skin-cologneblue .mw-parser-output .compact-ambox table .mbox-empty-cell,body.skin-modern .mw-parser-output .compact-ambox table .mbox-image,body.skin-modern .mw-parser-output .compact-ambox table .mbox-imageright,body.skin-modern .mw-parser-output .compact-ambox table .mbox-empty-cell,body.skin-monobook .mw-parser-output .compact-ambox table .mbox-image,body.skin-monobook .mw-parser-output .compact-ambox table .mbox-imageright,body.skin-monobook .mw-parser-output .compact-ambox table .mbox-empty-cell,body.skin-timeless .mw-parser-output .compact-ambox table .mbox-image,body.skin-timeless .mw-parser-output .compact-ambox table .mbox-imageright,body.skin-timeless .mw-parser-output .compact-ambox table .mbox-empty-cell{display:none}body.skin-vector .mw-parser-output .compact-ambox table.ambox,body.skin-cologneblue .mw-parser-output .compact-ambox table.ambox,body.skin-modern .mw-parser-output .compact-ambox table.ambox,body.skin-monobook .mw-parser-output .compact-ambox table.ambox,body.skin-timeless .mw-parser-output .compact-ambox table.ambox{border:none;border-collapse:collapse;background-color:transparent;margin:0 0 0 1.6em!important;padding:0!important;width:auto;display:block}body.skin-vector .mw-parser-output .compact-ambox table.mbox-small-left,body.skin-cologneblue .mw-parser-output .compact-ambox table.mbox-small-left,body.skin-modern .mw-parser-output .compact-ambox table.mbox-small-left,body.skin-monobook .mw-parser-output .compact-ambox table.mbox-small-left,body.skin-timeless .mw-parser-output .compact-ambox table.mbox-small-left{font-size:100%;width:auto;margin:0}body.skin-vector .mw-parser-output .compact-ambox table .mbox-text,body.skin-cologneblue .mw-parser-output .compact-ambox table .mbox-text,body.skin-modern .mw-parser-output .compact-ambox table .mbox-text,body.skin-monobook .mw-parser-output .compact-ambox table .mbox-text,body.skin-timeless .mw-parser-output .compact-ambox table .mbox-text{padding:0!important;margin:0!important}body.skin-vector .mw-parser-output .compact-ambox table .mbox-text-span,body.skin-cologneblue .mw-parser-output .compact-ambox table .mbox-text-span,body.skin-modern .mw-parser-output .compact-ambox table .mbox-text-span,body.skin-monobook .mw-parser-output .compact-ambox table .mbox-text-span,body.skin-timeless .mw-parser-output .compact-ambox table .mbox-text-span{display:list-item;line-height:1.5em;list-style-type:square}body.skin-vector .mw-parser-output .compact-ambox .hide-when-compact,body.skin-cologneblue .mw-parser-output .compact-ambox .hide-when-compact,body.skin-modern .mw-parser-output .compact-ambox .hide-when-compact,body.skin-monobook .mw-parser-output .compact-ambox .hide-when-compact,body.skin-timeless .mw-parser-output .compact-ambox .hide-when-compact{display:none}body.skin-vector .mw-parser-output .compact-ambox table .mbox-text-span{list-style-type:disc}body.skin-minerva .mw-parser-output .hide-when-compact{display:none}</style><table class=\"box-Sem_fontes plainlinks metadata ambox ambox-style ambox-style\" role=\"presentation\"><tbody><tr><td class=\"mbox-image\"><div style=\"width:52px\"><span typeof=\"mw:File\"><span><img alt=\"\" src=\"//upload.wikimedia.org/wikipedia/commons/thumb/f/f2/Edit-clear.svg/40px-Edit-clear.svg.png\" decoding=\"async\" width=\"40\" height=\"40\" class=\"mw-file-element\" srcset=\"//upload.wikimedia.org/wikipedia/commons/thumb/f/f2/Edit-clear.svg/60px-Edit-clear.svg.png 1.5x, //upload.wikimedia.org/wikipedia/commons/thumb/f/f2/Edit-clear.svg/80px-Edit-clear.svg.png 2x\" data-file-width=\"48\" data-file-height=\"48\" /></span></span></div></td><td class=\"mbox-text\"><div class=\"mbox-text-span\">As referências deste artigo <b><a href=\"/wiki/Wikip%C3%A9dia:Livro_de_estilo/Refer%C3%AAncias_e_notas_de_rodap%C3%A9\" title=\"Wikipédia:Livro de estilo/Referências e notas de rodapé\">necessitam de formatação</a></b>.<span class=\"hide-when-compact\"> Por favor, utilize <a href=\"/wiki/Wikip%C3%A9dia:Livro_de_estilo/Cite_as_fontes\" title=\"Wikipédia:Livro de estilo/Cite as fontes\">fontes apropriadas</a> contendo título, autor e data para que o verbete permaneça <a href=\"/wiki/Wikip%C3%A9dia:Verificabilidade\" title=\"Wikipédia:Verificabilidade\">verificável</a>.</span>  <small class=\"date-container\"><i>(<span class=\"date\">Maio de 2022</span>)</i></small></div></td></tr></tbody></table>\n",
            "<link rel=\"mw-deduplicated-inline-style\" href=\"mw-data:TemplateStyles:r57062225\"><table class=\"box-Reciclagem plainlinks metadata ambox ambox-style\" role=\"presentation\"><tbody><tr><td class=\"mbox-image\"><div style=\"width:52px\"><figure class=\"mw-halign-center\" typeof=\"mw:File\"><a href=\"/wiki/Wikip%C3%A9dia:Reciclagem\" title=\"Wikipédia:Reciclagem\"><img src=\"//upload.wikimedia.org/wikipedia/commons/thumb/1/1c/Ambox_rewrite.svg/40px-Ambox_rewrite.svg.png\" decoding=\"async\" width=\"40\" height=\"40\" class=\"mw-file-element\" srcset=\"//upload.wikimedia.org/wikipedia/commons/thumb/1/1c/Ambox_rewrite.svg/60px-Ambox_rewrite.svg.png 1.5x, //upload.wikimedia.org/wikipedia/commons/thumb/1/1c/Ambox_rewrite.svg/80px-Ambox_rewrite.svg.png 2x\" data-file-width=\"620\" data-file-height=\"620\" /></a><figcaption></figcaption></figure></div></td><td class=\"mbox-text\"><div class=\"mbox-text-span\"><b>Este artigo carece de <a href=\"/wiki/Wikip%C3%A9dia:Reciclagem\" title=\"Wikipédia:Reciclagem\">reciclagem</a> de acordo com o  <a href=\"/wiki/Wikip%C3%A9dia:Livro_de_estilo\" title=\"Wikipédia:Livro de estilo\">livro de estilo</a></b>.<span class=\"hide-when-compact\"> Sinta-se livre para editá-lo(a) para que este(a) possa atingir um <a href=\"/wiki/Wikip%C3%A9dia:Livro_de_estilo/Como_escrever_um_bom_artigo\" title=\"Wikipédia:Livro de estilo/Como escrever um bom artigo\">nível de qualidade superior</a>.</span>  <small class=\"date-container\"><i>(<span class=\"date\">Dezembro de 2016</span>)</i></small></div></td></tr></tbody></table><link rel=\"mw-deduplicated-inline-style\" href=\"mw-data:TemplateStyles:r57062225\"><table class=\"box-Mais_fontes plainlinks metadata ambox ambox-content ambox-Refimprove\" role=\"presentation\"><tbody><tr><td class=\"mbox-image\"><div style=\"width:52px\"><span typeof=\"mw:File\"><a href=\"/wiki/Ficheiro:Question_book-new.svg\" class=\"mw-file-description\"><img alt=\"\" src=\"//upload.wikimedia.org/wikipedia/commons/thumb/9/99/Question_book-new.svg/50px-Question_book-new.svg.png\" decoding=\"async\" width=\"50\" height=\"39\" class=\"mw-file-element\" srcset=\"//upload.wikimedia.org/wikipedia/commons/thumb/9/99/Question_book-new.svg/75px-Question_book-new.svg.png 1.5x, //upload.wikimedia.org/wikipedia/commons/thumb/9/99/Question_book-new.svg/100px-Question_book-new.svg.png 2x\" data-file-width=\"512\" data-file-height=\"399\" /></a></span></div></td><td class=\"mbox-text\"><div class=\"mbox-text-span\">Esta página <a href=\"/wiki/Wikip%C3%A9dia:Livro_de_estilo/Cite_as_fontes\" title=\"Wikipédia:Livro de estilo/Cite as fontes\">cita fontes</a>, mas que <b><a href=\"/wiki/Wikip%C3%A9dia:V\" class=\"mw-redirect\" title=\"Wikipédia:V\">não cobrem</a> todo o conteúdo</b>.<span class=\"hide-when-compact\"> Ajude a <a href=\"/wiki/Wikip%C3%A9dia:Livro_de_estilo/Refer%C3%AAncias_e_notas_de_rodap%C3%A9\" title=\"Wikipédia:Livro de estilo/Referências e notas de rodapé\">inserir referências</a>. Conteúdo não <a href=\"/wiki/Wikip%C3%A9dia:Verificabilidade\" title=\"Wikipédia:Verificabilidade\">verificável</a> pode ser <a href=\"/wiki/Wikip%C3%A9dia:Verificabilidade#Política_de_verificabilidade\" title=\"Wikipédia:Verificabilidade\">removido</a>.—<small><i>Encontre fontes:</i> <span class=\"plainlinks\"><a rel=\"nofollow\" class=\"external text\" href=\"https://wikipedialibrary.wmflabs.org/\">ABW</a> &#160;&#8226;&#32; <a rel=\"nofollow\" class=\"external text\" href=\"https://www.periodicos.capes.gov.br\">CAPES</a> &#160;&#8226;&#32;  <a rel=\"nofollow\" class=\"external text\" href=\"https://www.google.com/search?as_eq=wikipedia&amp;as_epq=Processamento+de+linguagem+natural\">Google</a> (<a rel=\"nofollow\" class=\"external text\" href=\"https://www.google.com/search?hl=pt&amp;tbm=nws&amp;q=Processamento+de+linguagem+natural&amp;oq=Processamento+de+linguagem+natural\">N</a>&#160;&#8226;&#32;<a rel=\"nofollow\" class=\"external text\" href=\"http://books.google.com/books?&amp;as_brr=0&amp;as_epq=Processamento+de+linguagem+natural\">L</a>&#160;&#8226;&#32;<a rel=\"nofollow\" class=\"external text\" href=\"https://scholar.google.com/scholar?hl=pt&amp;q=Processamento+de+linguagem+natural\">A</a>)</span></small></span>  <small class=\"date-container\"><i>(<span class=\"date\">Dezembro de 2016</span>)</i></small></div></td></tr></tbody></table>\n",
            "<figure class=\"mw-default-size\" typeof=\"mw:File/Thumb\"><a href=\"/wiki/Ficheiro:Automated_online_assistant.png\" class=\"mw-file-description\"><img src=\"//upload.wikimedia.org/wikipedia/commons/thumb/8/8b/Automated_online_assistant.png/220px-Automated_online_assistant.png\" decoding=\"async\" width=\"220\" height=\"276\" class=\"mw-file-element\" srcset=\"//upload.wikimedia.org/wikipedia/commons/thumb/8/8b/Automated_online_assistant.png/330px-Automated_online_assistant.png 1.5x, //upload.wikimedia.org/wikipedia/commons/8/8b/Automated_online_assistant.png 2x\" data-file-width=\"400\" data-file-height=\"501\" /></a><figcaption>Um assistente virtual automático que faz atendimento ao consumidor na internet, um exemplo onde há aplicação do processamento de língua natural.<sup id=\"cite_ref-1\" class=\"reference\"><a href=\"#cite_note-1\"><span>[</span>1<span>]</span></a></sup></figcaption></figure>\n",
            "<p><b>Processamento de língua natural</b> (<b>PLN</b>) é uma subárea da <a href=\"/wiki/Ci%C3%AAncia_da_computa%C3%A7%C3%A3o\" title=\"Ciência da computação\">ciência da computação</a>, <a href=\"/wiki/Intelig%C3%AAncia_artificial\" title=\"Inteligência artificial\">inteligência artificial</a> e da <a href=\"/wiki/Lingu%C3%ADstica\" title=\"Linguística\">linguística</a> que estuda os problemas da geração e compreensão automática de <a href=\"/wiki/L%C3%ADnguas_naturais\" class=\"mw-redirect\" title=\"Línguas naturais\">línguas humanas naturais</a>. Sistemas de geração de língua natural convertem informação de <a href=\"/wiki/Bancos_de_dados\" class=\"mw-redirect\" title=\"Bancos de dados\">bancos de dados</a> de computadores em linguagem compreensível ao ser humano e sistemas de compreensão de língua natural convertem ocorrências de linguagem humana em representações mais formais, mais facilmente manipuláveis por <a href=\"/wiki/Programa_de_computador\" title=\"Programa de computador\">programas de computador</a>. Alguns desafios do PLN são compreensão de língua natural, fazer com que computadores extraiam sentido de linguagem humana ou natural e geração de língua natural.\n",
            "</p>\n",
            "<meta property=\"mw:PageProp/toc\" />\n",
            "<h2><span id=\"Hist.C3.B3ria\"></span><span class=\"mw-headline\" id=\"História\">História</span><span class=\"mw-editsection\"><span class=\"mw-editsection-bracket\">[</span><a href=\"/w/index.php?title=Processamento_de_linguagem_natural&amp;veaction=edit&amp;section=1\" title=\"Editar secção: História\" class=\"mw-editsection-visualeditor\"><span>editar</span></a><span class=\"mw-editsection-divider\"> | </span><a href=\"/w/index.php?title=Processamento_de_linguagem_natural&amp;action=edit&amp;section=1\" title=\"Edit section&#039;s source code: História\"><span>editar código-fonte</span></a><span class=\"mw-editsection-bracket\">]</span></span></h2>\n",
            "<p>A história do PLN começou na década de 1950, quando Alan Turing publicou o artigo \"Computing Machinery and Intelligence\", que propunha o que agora é chamado de <a href=\"/wiki/Teste_de_Turing\" title=\"Teste de Turing\">teste de Turing</a> como critério de inteligência.\n",
            "</p><p>Em 1954, a <a href=\"https://en.wikipedia.org/wiki/Georgetown%E2%80%93IBM_experiment\" class=\"extiw\" title=\"en:Georgetown–IBM experiment\">experiência de Georgetown</a> envolveu a <a href=\"/wiki/Tradu%C3%A7%C3%A3o_autom%C3%A1tica\" title=\"Tradução automática\">tradução automática</a> de mais de sessenta frases russas para o inglês. Os autores afirmaram que dentro de três ou cinco anos a tradução automática seria um problema resolvido.<sup id=\"cite_ref-2\" class=\"reference\"><a href=\"#cite_note-2\"><span>[</span>2<span>]</span></a></sup> No entanto, os avanços reais foram muito mais lentos do que o previsto e, após o relatório <a href=\"https://en.wikipedia.org/wiki/ALPAC\" class=\"extiw\" title=\"en:ALPAC\">ALPAC</a> em 1966, que constatou que a pesquisa de dez anos não conseguiu satisfazer as expectativas, o financiamento para este estudo em tradução automática foi reduzido drasticamente. Poucas pesquisas em tradução automática foram conduzidas até o final dos anos 80, quando os primeiros <a href=\"https://en.wikipedia.org/wiki/Statistical_machine_translation\" class=\"extiw\" title=\"en:Statistical machine translation\">sistemas estatísticos de tradução</a> foram desenvolvidos.\n",
            "</p><p>Alguns sistemas de PLN bem sucedidos desenvolvidos nos anos 60 foram <a href=\"https://en.wikipedia.org/wiki/SHRDLU\" class=\"extiw\" title=\"en:SHRDLU\">SHRDLU</a>, um sistema de língua natural que trabalhava em \"<a href=\"https://en.wikipedia.org/wiki/Blocks_world\" class=\"extiw\" title=\"en:Blocks world\">blocks worlds</a>\" com vocabulário restrito e ELIZA, uma simulação de um psicoterapeuta escrita por Joseph Weizenbaum entre 1964 e 1966. Usando pouca informação sobre o pensamento ou a emoção humana, ELIZA criava, em alguns casos, interações surpreendentemente humanas. Quando o \"paciente\" excedia a base de conhecimento do programa, ELIZA fornecia uma resposta genérica, por exemplo, respondendo a \"Minha cabeça dói\" com \"Por que você diz que sua cabeça dói?\".\n",
            "</p><p>Durante a década de 1970, muitos programadores começaram a escrever \"ontologias conceituais\", que estruturaram a informação do mundo real em dados compreensíveis por computadores. Exemplos são MARGIE (SCHANK, 1975), SAM (CULLINGFORD, 1978), PAM (WILENSKY, 1978), TaleSpin (MEEHAN, 1976), QUALM (LEHNERT, 1977), Politics (CARBONELL, 1979) e Plot Units (LEHNERT, 1981 ). Neste período, muitos <a href=\"https://en.wikipedia.org/wiki/Chatterbot\" class=\"extiw\" title=\"en:Chatterbot\">chatterbots</a> foram escritos, como PARRY, Racter e Jabberwacky.\n",
            "</p><p>Até a década de 1980, a maioria dos sistemas de PLN se baseava em conjuntos complexos de regras manuscritas. A partir do final dos anos 1980, no entanto, houve uma revolução no PLN com a introdução de algoritmos de <a href=\"/wiki/Aprendizado_de_m%C3%A1quina\" title=\"Aprendizado de máquina\">aprendizagem automática (aprendizado de máquina</a>) para o processamento de linguagem. Isto foi devido tanto ao aumento constante do poder computacional (ver <a href=\"/wiki/Lei_de_Moore\" title=\"Lei de Moore\">Lei de Moore</a>) quanto à diminuição gradual da dominância das teorias da linguística <a href=\"/wiki/Noam_Chomsky\" title=\"Noam Chomsky\">chomskyanas</a> (como a <a href=\"/wiki/Gram%C3%A1tica_gerativa\" title=\"Gramática gerativa\">gramática gerativa</a>), cujos fundamentos teóricos desestimularam o tipo de <a href=\"/wiki/Corpus_lingu%C3%ADstico\" title=\"Corpus linguístico\">corpus linguístic</a>o que está subjacente à abordagem da aprendizagem automática ao processamento da linguagem<sup id=\"cite_ref-3\" class=\"reference\"><a href=\"#cite_note-3\"><span>[</span>3<span>]</span></a></sup>.\n",
            "</p><p>Alguns dos algoritmos de aprendizado de máquinas mais antigos, como as <a href=\"/wiki/%C3%81rvore_de_decis%C3%A3o\" title=\"Árvore de decisão\">árvores de decisão</a>, produziam sistemas de regras rígidas então semelhantes às regras existentes na escritas à mão. No entanto, a marcação de partes da fala (<a href=\"https://en.wikipedia.org/wiki/Part-of-speech_tagging\" class=\"extiw\" title=\"en:Part-of-speech tagging\">part-of-speech tagging</a>) introduziu o uso de <a href=\"/wiki/Modelo_oculto_de_Markov\" title=\"Modelo oculto de Markov\">modelos ocultos de Markov</a> para o PLN e, cada vez mais, a pesquisa se concentrava em <a href=\"https://en.wikipedia.org/wiki/Stochastic_grammar\" class=\"extiw\" title=\"en:Stochastic grammar\">modelos estatísticos</a>, que tomam decisões suaves e probabilísticas baseadas na atribuição de pesos reais aos recursos que compõem dados de entrada. Os <a href=\"https://en.wikipedia.org/wiki/Cache_language_model\" class=\"extiw\" title=\"en:Cache language model\">modelos de linguagem de cache</a>, sobre os quais muitos sistemas de reconhecimento de fala agora dependem, são exemplos de tais modelos estatísticos. Esses modelos são geralmente mais robustos quando dados informações desconhecidas, especialmente entrada que contém erros (como é muito comum para dados do mundo real) e produzem resultados mais confiáveis quando integrados em sistemas maiores que compreendem múltiplas tarefas.\n",
            "</p><p>Muitos dos sucessos iniciais notáveis ocorreram no campo da tradução automática, devido especialmente ao trabalho de pesquisa da IBM, que desenvolveu modelos estatísticos mais elaborados. Estes sistemas foram capazes de tirar proveito de corpora textuais multilíngues existentes  produzidos pelo <a href=\"https://en.wikipedia.org/wiki/Parliament_of_Canada\" class=\"extiw\" title=\"en:Parliament of Canada\">Parlamento do Canadá</a> e a <a href=\"https://en.wikipedia.org/wiki/European_Union\" class=\"extiw\" title=\"en:European Union\">União Europeia</a> como resultado de leis que exigem a tradução de todos os processos governamentais em todas as línguas oficiais dos países. No entanto, a maioria dos sistemas dependia de corpora desenvolvido especificamente para tarefas implementadas por esses sistemas, o que era (e muitas vezes continua sendo) uma grande limitação no sucesso dos mesmo. Como resultado, uma grande quantidade de pesquisa passou de quantidades de dados limitadas a métodos de aprendizagem mais eficazes.\n",
            "</p><p>Pesquisas recentes têm se concentrado cada vez mais em algoritmos de aprendizagem <a href=\"https://en.wikipedia.org/wiki/Semi-supervised_learning\" class=\"extiw\" title=\"en:Semi-supervised learning\">semi-supervisionados</a> e <a href=\"https://en.wikipedia.org/wiki/Unsupervised_learning\" class=\"extiw\" title=\"en:Unsupervised learning\">sem supervisão</a>. Esses algoritmos são capazes de aprender com dados que não foram anotados manualmente com as respostas desejadas ou usando uma combinação de dados anotados e não anotados. Geralmente, esta tarefa é muito mais trabalhosa do que a <a href=\"https://en.wikipedia.org/wiki/Supervised_learning\" class=\"extiw\" title=\"en:Supervised learning\">aprendizagem supervisionada</a> e normalmente produz resultados menos precisos para uma quantidade específica de dados de entrada. No entanto, há uma enorme quantidade de dados não anotados disponíveis (incluindo, entre outras coisas, todo o conteúdo da <a href=\"/wiki/World_Wide_Web\" title=\"World Wide Web\">World Wide Web</a>), que muitas vezes pode compensar os resultados inferiores.\n",
            "</p>\n",
            "<h2><span id=\"Usando_a_aprendizagem_autom.C3.A1tica_.28aprendizado_de_m.C3.A1quina.29\"></span><span class=\"mw-headline\" id=\"Usando_a_aprendizagem_automática_(aprendizado_de_máquina)\">Usando a aprendizagem automática (aprendizado de máquina)</span><span class=\"mw-editsection\"><span class=\"mw-editsection-bracket\">[</span><a href=\"/w/index.php?title=Processamento_de_linguagem_natural&amp;veaction=edit&amp;section=2\" title=\"Editar secção: Usando a aprendizagem automática (aprendizado de máquina)\" class=\"mw-editsection-visualeditor\"><span>editar</span></a><span class=\"mw-editsection-divider\"> | </span><a href=\"/w/index.php?title=Processamento_de_linguagem_natural&amp;action=edit&amp;section=2\" title=\"Edit section&#039;s source code: Usando a aprendizagem automática (aprendizado de máquina)\"><span>editar código-fonte</span></a><span class=\"mw-editsection-bracket\">]</span></span></h2>\n",
            "<p>Os algoritmos modernos de PLN baseiam-se na aprendizagem mecânica, especialmente na aprendizagem de máquinas <a href=\"/wiki/Infer%C3%AAncia_estat%C3%ADstica\" title=\"Inferência estatística\">estatísticas</a>. O paradigma da aprendizagem mecânica é diferente do da maioria das tentativas anteriores de processamento da linguagem. Anteriormente, implementações de tarefas de processamento de linguagem envolviam a codificação direta de grandes conjuntos de regras. O paradigma da <a href=\"/wiki/Aprendizado_de_m%C3%A1quina\" title=\"Aprendizado de máquina\">aprendizagem automática</a> (ou aprendizagem automática) induz a aprendizagem automática de regras através de análises de corpora de exemplos típicos do mundo real ao invés de usar algoritmos gerais de aprendizagem (muitas vezes, embora nem sempre, baseados em inferência estatística). Um corpus (plural \"<a href=\"/wiki/Corpus_lingu%C3%ADstico\" title=\"Corpus linguístico\">corpora</a>\") é um conjunto de documentos (ou frases individuais) que foram anotados à mão com os valores corretos a serem aprendidos.\n",
            "</p><p>Muitas classes diferentes de algoritmos de aprendizado de máquina foram aplicadas a tarefas de PLN. Esses algoritmos tomam como entrada um grande conjunto de \"recursos\" que são gerados a partir de dados de entrada.\n",
            "</p><p>Alguns dos algoritmos mais usados, como <a href=\"/wiki/%C3%81rvore_de_decis%C3%A3o\" title=\"Árvore de decisão\">árvores de decisão</a>, produziam sistemas de regras rígidas semelhantes aos sistemas de regras manuscritas mais comuns. No entanto, cada vez mais, a pesquisa tem se concentrado em <a href=\"https://en.wikipedia.org/wiki/Stochastic_grammar\" class=\"extiw\" title=\"en:Stochastic grammar\">modelos estatísticos</a>, que tomam decisões flexíveis e <a href=\"/wiki/Probabilidade\" title=\"Probabilidade\">probabilísticas</a> baseadas em agregar pesos reais a cada característica de entrada. Tais modelos têm a vantagem de poder expressar a certeza relativa de muitas respostas possíveis diferentes em vez de apenas uma, produzindo resultados mais confiáveis quando esse modelo é incluído como um componente de um sistema maior.\n",
            "</p><p>Os sistemas baseados em algoritmos de aprendizagem mecânica têm muitas vantagens em relação às regras produzidas manualmente:\n",
            "</p>\n",
            "<ul><li>Os procedimentos de aprendizagem usados durante a aprendizagem da máquina focam-se automaticamente nos casos mais comuns, ao passo que quando se escrevem regras à mão, não é óbvio em que sentido o esforço deve ser dirigido.</li>\n",
            "<li>Os procedimentos de aprendizagem automática podem fazer uso de algoritmos de inferência estatística para produzir modelos que são robustos a entradas não familiares (por exemplo, contendo palavras ou estruturas que não foram vistas antes) e a entradas errôneas (por exemplo, com palavras ou palavras incorretamente omitidas). Geralmente, lidar com essas entradas de forma com regras manuscritas ou sistemas de regras manuscritas que tomam decisões suaves é extremamente trabalhoso, propenso a erros e demorado.</li>\n",
            "<li>Sistemas baseados em aprender automaticamente as regras podem ser mais precisos simplesmente fornecendo mais dados de entrada. No entanto, os sistemas baseados em regras escritas à mão só podem ser tornados mais precisos aumentando a complexidade das regras, o que é uma tarefa muito mais difícil. Em particular, há um limite para a complexidade de sistemas baseados em regras artesanais, para além dos quais os sistemas se tornam cada vez mais incontroláveis. No entanto, a criação de mais dados para entrada em sistemas de aprendizado de máquina requer simplesmente um aumento correspondente no número de horas trabalhadas por humanos, geralmente sem aumentos significativos na complexidade do processo de anotação.</li></ul>\n",
            "<p>O subcampo de PLN dedicado a abordagens de aprendizagem é conhecido como aprendizagem de língua natural (NLL) e sua conferência, a CoNLL,<sup id=\"cite_ref-4\" class=\"reference\"><a href=\"#cite_note-4\"><span>[</span>4<span>]</span></a></sup> e orgão central, o SIGNLL,<sup id=\"cite_ref-5\" class=\"reference\"><a href=\"#cite_note-5\"><span>[</span>5<span>]</span></a></sup> são patrocinados pela <a href=\"https://en.wikipedia.org/wiki/Association_for_Computational_Linguistics\" class=\"extiw\" title=\"en:Association for Computational Linguistics\">ACL</a>, reconhecendo também as suas ligações com <a href=\"/wiki/Lingu%C3%ADstica_computacional\" title=\"Linguística computacional\">linguística computacional</a> e <a href=\"/wiki/Aquisi%C3%A7%C3%A3o_da_linguagem\" title=\"Aquisição da linguagem\">aquisição de linguagem</a>. Quando o objetivo da pesquisa de aprendizagem de linguagem computacional é entender mais sobre aquisição de linguagem humana, ou psicolinguística, a NLL sobrepõe-se no campo relacionado de psicolinguística computacional.\n",
            "</p>\n",
            "<h2><span id=\"Aplica.C3.A7.C3.B5es_principais\"></span><span class=\"mw-headline\" id=\"Aplicações_principais\">Aplicações principais</span><span class=\"mw-editsection\"><span class=\"mw-editsection-bracket\">[</span><a href=\"/w/index.php?title=Processamento_de_linguagem_natural&amp;veaction=edit&amp;section=3\" title=\"Editar secção: Aplicações principais\" class=\"mw-editsection-visualeditor\"><span>editar</span></a><span class=\"mw-editsection-divider\"> | </span><a href=\"/w/index.php?title=Processamento_de_linguagem_natural&amp;action=edit&amp;section=3\" title=\"Edit section&#039;s source code: Aplicações principais\"><span>editar código-fonte</span></a><span class=\"mw-editsection-bracket\">]</span></span></h2>\n",
            "<p>A listagem a seguir traz alguns dos trabalhos mais pesquisadas em PLN. Note que alguns deles têm aplicações no mundo real, enquanto outras servem mais frequentemente como tarefas secundárias que são usadas para auxiliar na resolução de tarefas maiores. O que distingue essas tarefas de outras tarefas potenciais e reais de PLN não é apenas o volume de pesquisa dedicado a elas, mas o fato de que para cada uma há tipicamente uma definição de problema bem especificada, uma métrica padrão para avaliar a tarefa, corpora padrão em que a tarefa pode ser avaliada e as competições dedicadas à tarefa específica.\n",
            "</p><p><a href=\"https://en.wikipedia.org/wiki/Automatic_summarization\" class=\"extiw\" title=\"en:Automatic summarization\">Sumarização automática</a>\n",
            "</p>\n",
            "<dl><dd>Produz um resumo legível de uma parte do texto. Muitas vezes usado para fornecer resumos de texto de um tipo conhecido, como artigos na seção financeira de um jornal.</dd></dl>\n",
            "<p><a href=\"https://en.wikipedia.org/wiki/Coreference\" class=\"extiw\" title=\"en:Coreference\">Resolução de correferência</a>\n",
            "</p>\n",
            "<dl><dd>Dada uma frase ou um pedaço maior de texto, determina quais palavras (\"menções\") se referem aos mesmos objetos (\"entidades\"). A <a href=\"/wiki/An%C3%A1fora_(lingu%C3%ADstica)\" title=\"Anáfora (linguística)\">resolução da anáfora</a> é um exemplo específico dessa tarefa e está especificamente preocupada em combinar os pronomes com os <a href=\"/wiki/Pronome\" title=\"Pronome\">substantivos</a> ou nomes aos quais eles se referem. A tarefa mais geral da resolução de correferência também inclui a identificação dos chamados \"relacionamentos de ponte\" envolvendo expressões de referência. Por exemplo, numa frase como \"Ele entrou na casa de João pela porta da frente\", \"a porta da frente\" é uma expressão de referência e a relação da ponte a ser identificada é o fato de que a porta a ser referida é a porta da frente de John's (ao invés de alguma outra estrutura que também pode ser referida).</dd></dl>\n",
            "<p><a href=\"/wiki/An%C3%A1lise_sint%C3%A1tica_(computa%C3%A7%C3%A3o)\" title=\"Análise sintática (computação)\">Análise do Discurso</a>\n",
            "</p>\n",
            "<dl><dd>Esta rubrica inclui uma série de tarefas relacionadas. Uma tarefa é identificar a estrutura discursiva do texto conectado, isto é, a natureza das relações discursivas entre sentenças (por exemplo, elaboração, explicação, contraste). Outra possível tarefa é reconhecer e classificar os atos de fala em um pedaço de texto (por exemplo, pergunta sim-não, pergunta de conteúdo, frase, afirmação, etc).</dd></dl>\n",
            "<p><a href=\"/wiki/Tradu%C3%A7%C3%A3o_autom%C3%A1tica\" title=\"Tradução automática\">Maquina de tradução</a>\n",
            "</p>\n",
            "<dl><dd>Traduzir automaticamente texto de uma linguagem humana para outra. Este é uma das tarefas mais difíceis e faz parte de um tipo de problemas conhecidos como \"<a href=\"https://en.wikipedia.org/wiki/AI-complete\" class=\"extiw\" title=\"en:AI-complete\">AI-complete</a>\", ou seja, exigindo todos os diferentes tipos de conhecimento que os humanos possuem (gramática, semântica, fatos sobre o mundo real, etc) para resolvê-lo adequadamente.</dd></dl>\n",
            "<p><a href=\"/wiki/Morfologia_(lingu%C3%ADstica)\" title=\"Morfologia (linguística)\">Segmentação morfológica</a>\n",
            "</p>\n",
            "<dl><dd>Separa palavras em <a href=\"https://en.wikipedia.org/wiki/Morpheme\" class=\"extiw\" title=\"en:Morpheme\">morfemas</a> individuais e identifica classes de morfemas. A dificuldade desta tarefa depende muito da complexidade da morfologia (isto é, da estrutura das palavras) da linguagem que está sendo considerada. O <a href=\"/wiki/L%C3%ADngua_inglesa\" title=\"Língua inglesa\">inglês</a> possui uma morfologia bastante simples, especialmente a morfologia <a href=\"/wiki/Flex%C3%A3o_(lingu%C3%ADstica)\" title=\"Flexão (linguística)\">flexional</a>, e portanto é possível ignorar esta tarefa inteiramente e simplesmente modelar todas as formas possíveis de uma palavra (por exemplo, \"open, opens, opened, opening\") como palavras separadas. Em línguas como o <a href=\"/wiki/L%C3%ADngua_turca\" title=\"Língua turca\">turco</a> ou o <a href=\"/wiki/L%C3%ADngua_manipuri\" title=\"Língua manipuri\">Meitei</a>, uma língua indiana fortemente <a href=\"/wiki/Aglutina%C3%A7%C3%A3o\" title=\"Aglutinação\">aglutinada</a>, no entanto, tal abordagem não é possível, uma vez que cada entrada do dicionário tem milhares de formas de palavras possíveis.<sup id=\"cite_ref-6\" class=\"reference\"><a href=\"#cite_note-6\"><span>[</span>6<span>]</span></a></sup></dd></dl>\n",
            "<p><a href=\"/wiki/Reconhecimento_de_entidade_mencionada\" title=\"Reconhecimento de entidade mencionada\">Reconhecimento de entidade nomeada (NER)</a>\n",
            "</p>\n",
            "<dl><dd>Dado um fluxo de texto, determina quais são itens no mapa de texto para nomes próprios, como pessoas ou locais e qual é o tipo de cada nome (por exemplo, pessoa, local, organização). Embora a capitalização possa ajudar a reconhecer entidades nomeadas em idiomas como o inglês, essas informações podem não ajudar a determinar o tipo de entidade nomeada e, em alguns casos, sãos imprecisas ou insuficientes. Por exemplo, a primeira palavra de uma frase também é capitalizada e as entidades nomeadas muitas vezes abrangem várias palavras, com apenas algumas delas são capitalizadas. Além disso, muitas outras linguagens em scripts não-ocidentais (por exemplo, chinês ou árabe) não têm nenhuma capitalização e mesmo as línguas com maiúsculas podem não distinguir nomes. Por exemplo, o alemão capitaliza todos os substantivos, independentemente de se referirem a nomes, e o francês e o espanhol não capitalizam nomes que servem como adjetivos.</dd></dl>\n",
            "<p>Geração de língua natural\n",
            "</p>\n",
            "<dl><dd>Converte informações de bancos de dados de computador ou intenções semânticas em linguagem humana legível.</dd></dl>\n",
            "<p><a href=\"https://en.wikipedia.org/wiki/Natural_language_understanding\" class=\"extiw\" title=\"en:Natural language understanding\">Compreensão da língua natural</a>\n",
            "</p>\n",
            "<dl><dd>Converte pedaços de texto em representações mais formais, como estruturas de <a href=\"/wiki/L%C3%B3gica_de_primeira_ordem\" title=\"Lógica de primeira ordem\">lógica de primeira ordem</a>, que são mais fáceis de manipular pelos programas de computador. A compreensão da língua natural envolve a identificação da semântica pretendida a partir da múltipla semântica possível que pode ser derivada de uma expressão de língua natural que geralmente toma a forma de notação organizada de conceitos de linguagens naturais. Entretanto, introdução e criação de linguagem metamodelo e <a href=\"/wiki/Ontologia\" title=\"Ontologia\">ontologia</a> são eficientes soluções empíricas. Uma formalização explícita da semântica de línguas naturais sem confusões com suposições implícitas como <a href=\"https://en.wikipedia.org/wiki/Closed-world_assumption\" class=\"extiw\" title=\"en:Closed-world assumption\">closed-world assumption</a> (CWA) versus <a href=\"https://en.wikipedia.org/wiki/Open-world_assumption\" class=\"extiw\" title=\"en:Open-world assumption\">open-world assumption</a> ou subjetiva Sim / Não versus objetivo Verdadeiro / Falso é esperada para a construção de uma base de formalização semântica.<sup id=\"cite_ref-7\" class=\"reference\"><a href=\"#cite_note-7\"><span>[</span>7<span>]</span></a></sup></dd></dl>\n",
            "<p><a href=\"/wiki/Reconhecimento_%C3%B3tico_de_caracteres\" title=\"Reconhecimento ótico de caracteres\">Reconhecimento óptico de caracteres (OCR)</a>\n",
            "</p>\n",
            "<dl><dd>Dada uma imagem que representa o texto impresso, determina o texto correspondente.</dd></dl>\n",
            "<p><a href=\"https://en.wikipedia.org/wiki/Part-of-speech_tagging\" class=\"extiw\" title=\"en:Part-of-speech tagging\">Marcação de classe gramatical</a>\n",
            "</p>\n",
            "<dl><dd>Dada uma sentença, determina a <a href=\"/wiki/Classe_gramatical\" title=\"Classe gramatical\">classe gramatical</a> de cada palavra. Muitas palavras, especialmente as comuns, podem servir como múltiplas partes do discurso. Em inglês, por exemplo, \"book\" pode ser um substantivo (\"the book on the table\") ou verbo (\"book a flight\"); \"Set\" pode ser um substantivo, verbo ou adjetivo; E \"out\" pode ser qualquer um de pelo menos cinco diferentes partes da fala. Algumas línguas têm mais ambiguidade do que outras. As línguas com pouca morfologia flexional, como o inglês, são particularmente propensas a tal ambiguidade. O chinês é propenso a tal ambiguidade porque é uma <a href=\"/wiki/L%C3%ADngua_tonal\" title=\"Língua tonal\">língua tonal</a> durante a verbalização. Tal inflexão não é facilmente transmitida através das entidades empregadas dentro da ortografia para transmitir o significado pretendido.</dd></dl>\n",
            "<p><a href=\"/wiki/An%C3%A1lise_sint%C3%A1tica_(computa%C3%A7%C3%A3o)\" title=\"Análise sintática (computação)\">Análise sintática (Parsing)</a>\n",
            "</p>\n",
            "<dl><dd>Determina a árvore de análise (análise gramatical) de uma frase. A gramática para as linguagens naturais é ambígua e frases típicas têm múltiplas análises possíveis. Na verdade, surpreendentemente, para uma frase típica pode haver milhares de análises em potencial (a maioria dos quais parecerá completamente absurda para um ser humano).</dd></dl>\n",
            "<p><a href=\"https://en.wikipedia.org/wiki/Question_answering\" class=\"extiw\" title=\"en:Question answering\">Respostas a perguntas</a>\n",
            "</p>\n",
            "<dl><dd>Dada uma questão de linguagem humana, determina sua resposta. As perguntas típicas têm uma resposta correta específica (como \"Qual é o capital do Canadá?\"), mas às vezes perguntas abertas também são consideradas (como \"Qual é o significado da vida?\"). Trabalhos recentes têm analisado questões ainda mais complexas.<sup id=\"cite_ref-8\" class=\"reference\"><a href=\"#cite_note-8\"><span>[</span>8<span>]</span></a></sup></dd></dl>\n",
            "<p><a href=\"https://en.wikipedia.org/wiki/Relationship_extraction\" class=\"extiw\" title=\"en:Relationship extraction\">Extração de relacionamento</a>\n",
            "</p>\n",
            "<dl><dd>Identifica as relações entre entidades nomeadas (por exemplo, quem é casado com quem) com base em textos.</dd></dl>\n",
            "<p><a href=\"https://en.wikipedia.org/wiki/Sentence_boundary_disambiguation\" class=\"extiw\" title=\"en:Sentence boundary disambiguation\">Quebra de frases</a> (sentence boundary disambiguation)\n",
            "</p>\n",
            "<dl><dd>Encontra os limites da frase em um pedaço de texto. Os limites de frases são normalmente marcadas por pontos ou outros sinais de pontuação, mas esses mesmos caracteres podem servir outros propósitos.</dd></dl>\n",
            "<p><a href=\"https://en.wikipedia.org/wiki/Sentiment_analysis\" class=\"extiw\" title=\"en:Sentiment analysis\">Análise de subjetividade</a> (sentiment analysis ou opinion mining)\n",
            "</p>\n",
            "<dl><dd>Extrai informações subjetivas geralmente de um conjunto de documentos, muitas vezes usando revisões online para determinar a \"polaridade\" sobre objetos específicos. É especialmente útil para identificar tendências da opinião pública nas mídias sociais, para fins de marketing.</dd></dl>\n",
            "<p><a href=\"/wiki/Reconhecimento_de_fala\" title=\"Reconhecimento de fala\">Reconhecimento de fala</a>\n",
            "</p>\n",
            "<dl><dd>Dado um clipe de som de uma pessoa ou pessoas falando, determina a representação textual do discurso. É o oposto da <a href=\"/wiki/S%C3%ADntese_de_fala\" title=\"Síntese de fala\">síntese de fala</a> e é uma das áreas mais difíceis, conhecida como \"AI-complete\". Na fala natural quase não há pausas entre palavras sucessivas, por isso a <a href=\"https://en.wikipedia.org/wiki/Speech_segmentation\" class=\"extiw\" title=\"en:Speech segmentation\">segmentação de fala</a> é uma subtarefa necessária de reconhecimento de fala. Nota-se também que, na maioria das linguagens faladas, os sons que representam letras sucessivas se misturam entre si em um processo denominado coarticulação, de modo que a conversão do sinal analógico em caracteres discretos pode ser um processo muito difícil de ser realizado.</dd></dl>\n",
            "<p><a href=\"https://en.wikipedia.org/wiki/Speech_segmentation\" class=\"extiw\" title=\"en:Speech segmentation\">Segmentação de fala</a>\n",
            "</p>\n",
            "<dl><dd>Dado um clipe de som de uma pessoa ou pessoas falando, separa-o em palavras. Uma subaplicação de reconhecimento de fala e normalmente agrupada com ele.</dd></dl>\n",
            "<p><a href=\"/wiki/An%C3%A1lise_morfol%C3%B3gica\" title=\"Análise morfológica\">Análise morfológica</a> <a href=\"https://en.wikipedia.org/wiki/Text_segmentation\" class=\"extiw\" title=\"en:Text segmentation\">e reconhecimento de tópicos</a>\n",
            "</p>\n",
            "<dl><dd>Dado um pedaço de texto, separa-o em segmentos cada um dos quais é dedicado a um tópico e identifica o tópico do segmento.</dd></dl>\n",
            "<p><a href=\"/wiki/An%C3%A1lise_morfol%C3%B3gica\" title=\"Análise morfológica\">Análise morfológica</a> <a href=\"https://en.wikipedia.org/wiki/Text_segmentation#Word_segmentation\" class=\"extiw\" title=\"en:Text segmentation\">e segmentação de palavras</a>\n",
            "</p>\n",
            "<dl><dd>Separa um pedaço de texto contínuo em palavras separadas. Para uma língua como o inglês, isso é bastante trivial, uma vez que as palavras são normalmente separadas por espaços. No entanto, algumas línguas escritas como chinês, japonês e tailandês não marcam limites de palavras de tal forma, e nessas línguas segmentação de texto é uma tarefa significativa que requer conhecimento do vocabulário e morfologia das palavras na língua.</dd></dl>\n",
            "<p><a href=\"/wiki/Desambigua%C3%A7%C3%A3o\" title=\"Desambiguação\">Desambiguação</a>\n",
            "</p>\n",
            "<dl><dd>Muitas palavras têm mais de um significado, assim temos que selecionar o significado que faz mais sentido no contexto. Para este problema, em geral é dada uma lista de palavras e sentidos de palavras associadas de um dicionário ou recurso online, como o WordNet.</dd>\n",
            "<dd>Em alguns casos, conjuntos de tarefas relacionadas são agrupados em subcampos de PLN que são frequentemente considerados separadamente da PLN como um todo, como os exemplos a seguir:</dd></dl>\n",
            "<p><a href=\"/wiki/Recupera%C3%A7%C3%A3o_de_informa%C3%A7%C3%A3o\" title=\"Recuperação de informação\">Recuperação de informação (IR)</a>\n",
            "</p>\n",
            "<dl><dd>Trata-se de armazenar, pesquisar e recuperar informações. É um campo separado dentro da ciência da computação (mais perto de bancos de dados), mas a IR se baseia em alguns métodos PLN (por exemplo, stemming). Algumas pesquisas e aplicações atuais procuram preencher a lacuna entre IR e PLN.</dd></dl>\n",
            "<p><a href=\"https://en.wikipedia.org/wiki/Information_extraction\" class=\"extiw\" title=\"en:Information extraction\">Extração de informação (IE)</a>\n",
            "</p>\n",
            "<dl><dd>Trata-se, em geral, da extração de informação semântica a partir do texto. Abrange tarefas como reconhecimento de entidade mencionada, resolução de correferência e de relacionamento de extração, etc.</dd>\n",
            "<dd><a href=\"https://en.wikipedia.org/wiki/Speech_processing\" class=\"extiw\" title=\"en:Speech processing\">Processamento de voz</a>  Abrange reconhecimento de fala, síntese de fala e tarefas relacionadas.</dd>\n",
            "<dd>Outras tarefas incluem:\n",
            "<ul><li><a href=\"https://en.wikipedia.org/wiki/Native-language_identification\" class=\"extiw\" title=\"en:Native-language identification\">Identificação na língua materna</a></li>\n",
            "<li><a href=\"/wiki/Stemiza%C3%A7%C3%A3o\" title=\"Stemização\">Stemização</a></li>\n",
            "<li><a href=\"https://en.wikipedia.org/wiki/Text_simplification\" class=\"extiw\" title=\"en:Text simplification\">Simplificação do texto</a></li>\n",
            "<li><a href=\"/wiki/S%C3%ADntese_de_fala\" title=\"Síntese de fala\">Síntese de fala</a></li>\n",
            "<li><a href=\"/wiki/Revis%C3%A3o_de_texto\" title=\"Revisão de texto\">Revisão de texto</a></li>\n",
            "<li><a href=\"https://en.wikipedia.org/wiki/Natural_language_user_interface\" class=\"extiw\" title=\"en:Natural language user interface\">Pesquisa em língua natural</a></li>\n",
            "<li><a href=\"https://en.wikipedia.org/wiki/Query_expansion\" class=\"extiw\" title=\"en:Query expansion\">Expansão da consulta</a></li>\n",
            "<li><a href=\"https://en.wikipedia.org/wiki/Automated_essay_scoring\" class=\"extiw\" title=\"en:Automated essay scoring\">Pontuação de ensaio automatizado</a></li>\n",
            "<li><a href=\"https://en.wikipedia.org/wiki/Truecasing\" class=\"extiw\" title=\"en:Truecasing\">Truecasing</a></li></ul></dd></dl>\n",
            "<h2><span id=\"Estat.C3.ADstica\"></span><span class=\"mw-headline\" id=\"Estatística\">Estatística</span><span class=\"mw-editsection\"><span class=\"mw-editsection-bracket\">[</span><a href=\"/w/index.php?title=Processamento_de_linguagem_natural&amp;veaction=edit&amp;section=4\" title=\"Editar secção: Estatística\" class=\"mw-editsection-visualeditor\"><span>editar</span></a><span class=\"mw-editsection-divider\"> | </span><a href=\"/w/index.php?title=Processamento_de_linguagem_natural&amp;action=edit&amp;section=4\" title=\"Edit section&#039;s source code: Estatística\"><span>editar código-fonte</span></a><span class=\"mw-editsection-bracket\">]</span></span></h2>\n",
            "<dl><dd>Artigo principal: <a href=\"https://en.wikipedia.org/wiki/Stochastic_grammar\" class=\"extiw\" title=\"en:Stochastic grammar\">Gramática estocástica</a></dd>\n",
            "<dd>O processamento estatístico em língua natural utiliza métodos <a href=\"https://en.wikipedia.org/wiki/Stochastic\" class=\"extiw\" title=\"en:Stochastic\">estocásticos</a>, <a href=\"/wiki/Probabilidade\" title=\"Probabilidade\">probabilísticos</a> e <a href=\"/wiki/Estat%C3%ADstica\" title=\"Estatística\">estatísticos</a> para resolver algumas das dificuldades discutidas acima, especialmente aquelas que surgem porque frases mais longas são muito ambíguas quando processadas com gramáticas realistas, produzindo milhares ou milhões de análises possíveis. Métodos de desambiguação envolvem muitas vezes o uso de <a href=\"/wiki/Lingu%C3%ADstica_de_corpus\" title=\"Linguística de corpus\">corpora</a> e modelos de <a href=\"https://en.wikipedia.org/wiki/Markov_model\" class=\"extiw\" title=\"en:Markov model\">Markov</a>. O projeto ESPRIT P26 (1984-1988), liderado pelo <a href=\"https://en.wikipedia.org/wiki/CSELT\" class=\"extiw\" title=\"en:CSELT\">CSELT</a>, explorou o problema do reconhecimento de fala comparando abordagem baseada em conhecimento e estatística: o resultado escolhido foi um modelo completamente estatístico.<sup id=\"cite_ref-9\" class=\"reference\"><a href=\"#cite_note-9\"><span>[</span>9<span>]</span></a></sup> Um dos primeiros modelos de compreensão estatística da língua natural foi introduzido em 1991 por <a href=\"https://en.wikipedia.org/wiki/Roberto_Pieraccini\" class=\"extiw\" title=\"en:Roberto Pieraccini\">Roberto Pieraccini</a>, Esther Levin e Chin-Hui Lee, da <a href=\"https://en.wikipedia.org/wiki/Bell_Labs\" class=\"extiw\" title=\"en:Bell Labs\">Bell Laboratories</a><sup id=\"cite_ref-10\" class=\"reference\"><a href=\"#cite_note-10\"><span>[</span>10<span>]</span></a></sup>]. O PLN compreende todas as abordagens quantitativas para processamento automatizado de linguagem, incluindo modelagem probabilística, <a href=\"/wiki/Teoria_da_informa%C3%A7%C3%A3o\" title=\"Teoria da informação\">teoria da informação</a> e <a href=\"/wiki/%C3%81lgebra_linear\" title=\"Álgebra linear\">álgebra linear</a>.<sup id=\"cite_ref-11\" class=\"reference\"><a href=\"#cite_note-11\"><span>[</span>11<span>]</span></a></sup> A tecnologia para o PLN estatístico vem principalmente da <a href=\"/wiki/Aprendizado_de_m%C3%A1quina\" title=\"Aprendizado de máquina\">aprendizagem automática</a> e da <a href=\"/wiki/Minera%C3%A7%C3%A3o_de_dados\" title=\"Mineração de dados\">mineração de dados</a>, que são campos de <a href=\"/wiki/Intelig%C3%AAncia_artificial\" title=\"Inteligência artificial\">inteligência artificial</a> que envolvem o aprendizado a partir de dados.</dd></dl>\n",
            "<h2><span id=\"Avalia.C3.A7.C3.A3o\"></span><span class=\"mw-headline\" id=\"Avaliação\">Avaliação</span><span class=\"mw-editsection\"><span class=\"mw-editsection-bracket\">[</span><a href=\"/w/index.php?title=Processamento_de_linguagem_natural&amp;veaction=edit&amp;section=5\" title=\"Editar secção: Avaliação\" class=\"mw-editsection-visualeditor\"><span>editar</span></a><span class=\"mw-editsection-divider\"> | </span><a href=\"/w/index.php?title=Processamento_de_linguagem_natural&amp;action=edit&amp;section=5\" title=\"Edit section&#039;s source code: Avaliação\"><span>editar código-fonte</span></a><span class=\"mw-editsection-bracket\">]</span></span></h2>\n",
            "<dl><dd>O objetivo da avaliação do PLN é uma medida de uma ou mais qualidades de um <a href=\"/wiki/Algoritmo\" title=\"Algoritmo\">algoritmo</a> ou de um sistema a fim de determinar se o algoritmo atende às metas dos projetistas ou o sistema de atendimento às necessidades de seus usuários. Investigação na avaliação PLN  tem ganhado atenção, porque a definição de critérios de avaliação é uma forma de especificar precisamente problemas do PLN. Uma métrica de avaliação de PLN em um sistema algorítmico permite a integração da compreensão de linguagem e geração de linguagem. Um conjunto preciso de critérios de avaliação, que pode ser aplicado principalmente a avaliações métricas, podendo permitir que várias equipes comparem suas soluções para um determinado problema do PLN.</dd></dl>\n",
            "<h2><span id=\"Cronologia_da_avalia.C3.A7.C3.A3o\"></span><span class=\"mw-headline\" id=\"Cronologia_da_avaliação\">Cronologia da avaliação</span><span class=\"mw-editsection\"><span class=\"mw-editsection-bracket\">[</span><a href=\"/w/index.php?title=Processamento_de_linguagem_natural&amp;veaction=edit&amp;section=6\" title=\"Editar secção: Cronologia da avaliação\" class=\"mw-editsection-visualeditor\"><span>editar</span></a><span class=\"mw-editsection-divider\"> | </span><a href=\"/w/index.php?title=Processamento_de_linguagem_natural&amp;action=edit&amp;section=6\" title=\"Edit section&#039;s source code: Cronologia da avaliação\"><span>editar código-fonte</span></a><span class=\"mw-editsection-bracket\">]</span></span></h2>\n",
            "<ul><li>Em 1983, iniciou-se o Projecto Esprit P26, que avaliou as Tecnologias da Fala (incluindo tópicos gerais como Sintaxe e Semântica) comparando as abordagens baseadas em regras com as estatísticas.<sup id=\"cite_ref-12\" class=\"reference\"><a href=\"#cite_note-12\"><span>[</span>12<span>]</span></a></sup></li>\n",
            "<li>Em 1987, a primeira campanha de avaliação de textos escritos parece ser uma campanha dedicada à compreensão da mensagem (Pallet, 1998).</li>\n",
            "<li>O projeto Parseval / GEIG comparou gramáticas de frase-estrutura (Black 1991).</li>\n",
            "<li>Houve uma série de campanhas no projeto Tipster sobre tarefas como resumo, tradução e pesquisa (Hirschman 1998).</li>\n",
            "<li>Em 1994, na Alemanha, o Morpholympics comparou marcadores morfológicos alemães.</li>\n",
            "<li>As campanhas de Senseval &amp; Romanseval foram realizadas com os objetivos de desambiguação semântica.</li>\n",
            "<li>Em 1996, a campanha Sparkle comparou os analisadores sintáticos em quatro idiomas diferentes (inglês, francês, alemão e italiano).</li>\n",
            "<li>Na França, o projeto Grace comparou um conjunto de 21 marcadores para o francês em 1997 (Adda 1999).</li>\n",
            "<li>Em 2004, durante o projeto <a href=\"https://en.wikipedia.org/wiki/Technolangue/Easy\" class=\"extiw\" title=\"en:Technolangue/Easy\">Technolangue / Easy</a>, foram comparados 13 analisadores para o francês.</li>\n",
            "<li>A avaliação em larga escala dos analisadores de dependência foi realizada no contexto das tarefas compartilhadas do CoNLL em 2006 e 2007.</li>\n",
            "<li>Na França, no âmbito do projecto ANR-Passage (final de 2007), foram comparados 10 analisadores para o francês.</li>\n",
            "<li>Em Itália, a campanha EVALITA foi realizada em 2007,<sup id=\"cite_ref-13\" class=\"reference\"><a href=\"#cite_note-13\"><span>[</span>13<span>]</span></a></sup> 2009, 2011 e 2014<sup id=\"cite_ref-14\" class=\"reference\"><a href=\"#cite_note-14\"><span>[</span>14<span>]</span></a></sup> para comparar várias ferramentas de PLN e de voz para o site italiano - <a rel=\"nofollow\" class=\"external text\" href=\"http://www.evalita.it/\">EVALITA</a>.</li></ul>\n",
            "<h2><span id=\"Diferentes_tipos_de_avalia.C3.A7.C3.A3o\"></span><span class=\"mw-headline\" id=\"Diferentes_tipos_de_avaliação\">Diferentes tipos de avaliação</span><span class=\"mw-editsection\"><span class=\"mw-editsection-bracket\">[</span><a href=\"/w/index.php?title=Processamento_de_linguagem_natural&amp;veaction=edit&amp;section=7\" title=\"Editar secção: Diferentes tipos de avaliação\" class=\"mw-editsection-visualeditor\"><span>editar</span></a><span class=\"mw-editsection-divider\"> | </span><a href=\"/w/index.php?title=Processamento_de_linguagem_natural&amp;action=edit&amp;section=7\" title=\"Edit section&#039;s source code: Diferentes tipos de avaliação\"><span>editar código-fonte</span></a><span class=\"mw-editsection-bracket\">]</span></span></h2>\n",
            "<p><b>Avaliação intrínseca vs. extrínseca</b>\n",
            "</p><p>A avaliação intrínseca considera um sistema PNL isolado e caracteriza seu desempenho em relação a um resultado padrão-excelência, conforme definido pelos avaliadores. A avaliação extrínseca, também chamada de avaliação em uso, considera o sistema PLN em um cenário mais complexo como um sistema embutido ou uma função precisa para um usuário humano. O desempenho extrínseco do sistema é então caracterizado em termos de utilidade em relação à tarefa global do sistema estranho ou do utilizador humano. Por exemplo, considere um analisador sintático que é baseado na saída de alguma parte do tagger de fala (POS). Uma avaliação intrínseca executaria o marcador POS em dados estruturados e compararia a saída do sistema do marcador POS com a saída padrão ouro. Uma avaliação extrínseca executaria o analisador com algum outro marcador POS e, em seguida, com o marcador POS novo e compara a precisão de análise.\n",
            "</p><p><b>Caixa preta vs. Avaliação da caixa de vidro</b>\n",
            "</p><p>A avaliação em caixa preta requer que alguém execute um sistema PLN em um conjunto de dados de amostra e para medir uma série de parâmetros relacionados com a qualidade do processo, como velocidade, confiabilidade, consumo de recursos e, principalmente, a qualidade do resultado, como a precisão da anotação de dados ou a fidelidade de uma tradução. A avaliação da caixa de vidro examina a concepção do sistema; Os algoritmos que são implementados, os recursos linguísticos que utiliza, como o tamanho do vocabulário ou a expressão definida de cardinalidade. Dada a complexidade dos problemas da PLN, muitas vezes é difícil prever o desempenho apenas com base na avaliação da caixa de vidro; Mas este tipo de avaliação é mais informativo no que diz respeito à análise de erros ou desenvolvimentos futuros de um sistema.\n",
            "</p><p><b>Automática vs. avaliação manual</b>\n",
            "</p><p>Em muitos casos, procedimentos automáticos podem ser definidos para avaliar um sistema de PLN, comparando sua saída com o padrão de excelência. Embora o custo de reproduzir o padrão de excelência possa ser bastante elevado, avaliação automática de bootstrapping sobre os mesmos dados de entrada pode ser repetida quantas vezes for necessário sem custos adicionais desordenados. No entanto, para muitos problemas de PLN a definição precisa de um padrão de excelência é uma tarefa complexa e pode se revelar impossível quando o acordo inter-anotador é insuficiente. A avaliação manual é melhor realizada por juízes humanos instruídos para estimar a qualidade de um sistema, ou mais frequentemente de uma amostra de sua produção, com base em uma série de critérios. Embora, graças à sua competência linguística, os juízes humanos possam ser considerados como a referência para uma série de tarefas de processamento de linguagem, há também uma variação considerável em suas classificações. É por isso que a avaliação automática é, por vezes, referida como avaliação objetiva enquanto a avaliação humana é perspectiva.\n",
            "</p>\n",
            "<h2><span id=\"Padroniza.C3.A7.C3.A3o\"></span><span class=\"mw-headline\" id=\"Padronização\">Padronização</span><span class=\"mw-editsection\"><span class=\"mw-editsection-bracket\">[</span><a href=\"/w/index.php?title=Processamento_de_linguagem_natural&amp;veaction=edit&amp;section=8\" title=\"Editar secção: Padronização\" class=\"mw-editsection-visualeditor\"><span>editar</span></a><span class=\"mw-editsection-divider\"> | </span><a href=\"/w/index.php?title=Processamento_de_linguagem_natural&amp;action=edit&amp;section=8\" title=\"Edit section&#039;s source code: Padronização\"><span>editar código-fonte</span></a><span class=\"mw-editsection-bracket\">]</span></span></h2>\n",
            "<p>Um subcomitê ISO está trabalhando para facilitar a interoperabilidade entre <a href=\"https://en.wikipedia.org/wiki/Lexical_resource\" class=\"extiw\" title=\"en:Lexical resource\">recursos lexicais</a> e programas PLN. O subcomitê faz parte do <a href=\"https://en.wikipedia.org/wiki/ISO/TC_37\" class=\"extiw\" title=\"en:ISO/TC 37\">ISO / TC37</a> e é chamado ISO / TC37 / SC4. Alguns padrões ISO já estão publicados, mas a maioria deles está em construção, principalmente na representação de léxico (ver <a href=\"https://en.wikipedia.org/wiki/Lexical_Markup_Framework\" class=\"extiw\" title=\"en:Lexical Markup Framework\">LMF</a>), anotação e registro de categoria de dados.\n",
            "</p>\n",
            "<h2><span class=\"mw-headline\" id=\"Ferramentas\">Ferramentas</span><span class=\"mw-editsection\"><span class=\"mw-editsection-bracket\">[</span><a href=\"/w/index.php?title=Processamento_de_linguagem_natural&amp;veaction=edit&amp;section=9\" title=\"Editar secção: Ferramentas\" class=\"mw-editsection-visualeditor\"><span>editar</span></a><span class=\"mw-editsection-divider\"> | </span><a href=\"/w/index.php?title=Processamento_de_linguagem_natural&amp;action=edit&amp;section=9\" title=\"Edit section&#039;s source code: Ferramentas\"><span>editar código-fonte</span></a><span class=\"mw-editsection-bracket\">]</span></span></h2>\n",
            "<ul><li><a href=\"/w/index.php?title=Expert_System_S.p.A.&amp;action=edit&amp;redlink=1\" class=\"new\" title=\"Expert System S.p.A. (página não existe)\">Expert System S.p.A.</a></li>\n",
            "<li><a href=\"/w/index.php?title=General_Architecture_for_Text_Engineering&amp;action=edit&amp;redlink=1\" class=\"new\" title=\"General Architecture for Text Engineering (página não existe)\">General Architecture for Text Engineering</a></li>\n",
            "<li><a href=\"/wiki/Modular_Audio_Recognition_Framework\" title=\"Modular Audio Recognition Framework\">Modular Audio Recognition Framework</a></li>\n",
            "<li><a href=\"/w/index.php?title=Natural_Language_Toolkit&amp;action=edit&amp;redlink=1\" class=\"new\" title=\"Natural Language Toolkit (página não existe)\">Natural Language Toolkit</a> (NLTK): uma biblioteca em <a href=\"/w/index.php?title=Python_(programming_language)&amp;action=edit&amp;redlink=1\" class=\"new\" title=\"Python (programming language) (página não existe)\">Python</a></li>\n",
            "<li><a href=\"/wiki/OpenNLP\" title=\"OpenNLP\">OpenNLP</a></li></ul>\n",
            "<h2><span id=\"Veja_tamb.C3.A9m\"></span><span class=\"mw-headline\" id=\"Veja_também\">Veja também</span><span class=\"mw-editsection\"><span class=\"mw-editsection-bracket\">[</span><a href=\"/w/index.php?title=Processamento_de_linguagem_natural&amp;veaction=edit&amp;section=10\" title=\"Editar secção: Veja também\" class=\"mw-editsection-visualeditor\"><span>editar</span></a><span class=\"mw-editsection-divider\"> | </span><a href=\"/w/index.php?title=Processamento_de_linguagem_natural&amp;action=edit&amp;section=10\" title=\"Edit section&#039;s source code: Veja também\"><span>editar código-fonte</span></a><span class=\"mw-editsection-bracket\">]</span></span></h2>\n",
            "<ul><li><a href=\"https://en.wikipedia.org/wiki/Biomedical_text_mining\" class=\"extiw\" title=\"en:Biomedical text mining\">Mineração de texto biomédica</a></li>\n",
            "<li><a href=\"https://en.wikipedia.org/wiki/Compound_term_processing\" class=\"extiw\" title=\"en:Compound term processing\">Processo de processamento composto</a></li>\n",
            "<li><a href=\"https://en.wikipedia.org/wiki/Computer-assisted_reviewing\" class=\"extiw\" title=\"en:Computer-assisted reviewing\">Revisão assistida por computador</a></li>\n",
            "<li><a href=\"/wiki/L%C3%ADngua_natural_controlada\" title=\"Língua natural controlada\">Linguagem natural controlada</a></li>\n",
            "<li><a href=\"https://en.wikipedia.org/wiki/Deep_linguistic_processing\" class=\"extiw\" title=\"en:Deep linguistic processing\">Processamento linguístico profundo</a></li>\n",
            "<li><a href=\"https://en.wikipedia.org/wiki/Computer-assisted_language_learning\" class=\"extiw\" title=\"en:Computer-assisted language learning\">Auxílio à leitura de línguas estrangeiras</a></li>\n",
            "<li><a href=\"https://en.wikipedia.org/wiki/Foreign_language_writing_aid\" class=\"extiw\" title=\"en:Foreign language writing aid\">Auxílio à escrita em língua estrangeira</a></li>\n",
            "<li><a href=\"https://en.wikipedia.org/wiki/Computer-assisted_language_learning\" class=\"extiw\" title=\"en:Computer-assisted language learning\">Tecnologia da linguagem</a></li>\n",
            "<li><a href=\"/wiki/Aloca%C3%A7%C3%A3o_latente_de_Dirichlet\" title=\"Alocação latente de Dirichlet\">A alocação de Dirichlet Latente (LDA)</a></li>\n",
            "<li><a href=\"https://en.wikipedia.org/wiki/Latent_semantic_analysis\" class=\"extiw\" title=\"en:Latent semantic analysis\">Indexação semântica latente</a></li>\n",
            "<li><a href=\"https://en.wikipedia.org/wiki/Outline_of_natural_language_processing#Natural_language_processing_toolkits\" class=\"extiw\" title=\"en:Outline of natural language processing\">Lista de ferramentas de processamento de língua natural</a></li>\n",
            "<li><a href=\"https://en.wikipedia.org/wiki/LRE_Map\" class=\"extiw\" title=\"en:LRE Map\">Mapa de LRE</a></li>\n",
            "<li><a href=\"https://en.wikipedia.org/wiki/Natural_language_programming\" class=\"extiw\" title=\"en:Natural language programming\">Programação em língua natural</a></li>\n",
            "<li><a href=\"https://en.wikipedia.org/wiki/Reification_(linguistics)\" class=\"extiw\" title=\"en:Reification (linguistics)\">Reificação (linguística)</a></li>\n",
            "<li><a href=\"https://en.wikipedia.org/wiki/Semantic_folding\" class=\"extiw\" title=\"en:Semantic folding\">Dobradura semântica</a></li>\n",
            "<li><a href=\"https://en.wikipedia.org/wiki/Spoken_dialog_systems\" class=\"extiw\" title=\"en:Spoken dialog systems\">Sistema de diálogo falado</a></li>\n",
            "<li><a href=\"https://en.wikipedia.org/wiki/Thought_vector\" class=\"extiw\" title=\"en:Thought vector\">Vetor do Pensamento</a></li>\n",
            "<li><a href=\"https://en.wikipedia.org/wiki/Transderivational_search\" class=\"extiw\" title=\"en:Transderivational search\">Pesquisa Transderivacional</a></li>\n",
            "<li><a href=\"https://en.wikipedia.org/wiki/Word2vec\" class=\"extiw\" title=\"en:Word2vec\">Word2vec</a></li></ul>\n",
            "<h2 style=\"cursor: help;\" title=\"Esta seção foi configurada para não ser editável diretamente. Edite a página toda ou a seção anterior em vez disso.\"><span id=\"Refer.C3.AAncias\"></span><span class=\"mw-headline\" id=\"Referências\">Referências</span></h2>\n",
            "<div class=\"reflist\" style=\"list-style-type: decimal;\"><div class=\"mw-references-wrap mw-references-columns\"><ol class=\"references\">\n",
            "<li id=\"cite_note-1\"><span class=\"mw-cite-backlink\"><a href=\"#cite_ref-1\">↑</a></span> <span class=\"reference-text\"><a rel=\"nofollow\" class=\"external text\" href=\"http://ahs.annaisd.org/common/pages/GalleryPhoto.aspx?photoId=11772950&amp;width=180&amp;height=180\">Implementing an online help desk system based on conversational agent</a>&#160;Authors: Alisa Kongthon, Chatchawal Sangkeettrakarn, Sarawoot Kongyoung and Choochart Haruechaiyasak. Published by ACM 2009 Article, Bibliometrics Data Bibliometrics. Published in: Proceeding, MEDES '09 Proceedings of the International Conference on Management of Emergent Digital EcoSystems, ACM New York, NY, USA.&#160;<a href=\"/wiki/Especial:Fontes_de_livros/9781605588292\" class=\"internal mw-magiclink-isbn\">ISBN 978-1-60558-829-2</a>,&#160;<a href=\"/wiki/Digital_object_identifier\" title=\"Digital object identifier\">doi</a>:<a href=\"//doi.org/10.1145/1643823.1643908\" class=\"extiw\" title=\"doi:10.1145/1643823.1643908\">10.1145/1643823.1643908</a></span>\n",
            "</li>\n",
            "<li id=\"cite_note-2\"><span class=\"mw-cite-backlink\"><a href=\"#cite_ref-2\">↑</a></span> <span class=\"reference-text\">Hutchins, J. (2005).&#160;<a rel=\"nofollow\" class=\"external text\" href=\"http://ahs.annaisd.org/common/pages/GalleryPhoto.aspx?photoId=11772950&amp;width=180&amp;height=180\">\"The history of machine translation in a nutshell\"</a></span>\n",
            "</li>\n",
            "<li id=\"cite_note-3\"><span class=\"mw-cite-backlink\"><a href=\"#cite_ref-3\">↑</a></span> <span class=\"reference-text\">Chomskyan linguistics encourages the investigation of \"<a href=\"/w/index.php?title=Corner_case&amp;action=edit&amp;redlink=1\" class=\"new\" title=\"Corner case (página não existe)\">corner cases</a>\" that stress the limits of its theoretical models (comparable to&#160;<a href=\"/w/index.php?title=Pathological_(mathematics)&amp;action=edit&amp;redlink=1\" class=\"new\" title=\"Pathological (mathematics) (página não existe)\">pathological</a>phenomena in mathematics), typically created using<a href=\"/w/index.php?title=Thought_experiment&amp;action=edit&amp;redlink=1\" class=\"new\" title=\"Thought experiment (página não existe)\">thought experiments</a>, rather than the systematic investigation of typical phenomena that occur in real-world data, as is the case in&#160;<a href=\"/w/index.php?title=Corpus_linguistics&amp;action=edit&amp;redlink=1\" class=\"new\" title=\"Corpus linguistics (página não existe)\">corpus linguistics</a>. The creation and use of such&#160;<a href=\"/w/index.php?title=Text_corpus&amp;action=edit&amp;redlink=1\" class=\"new\" title=\"Text corpus (página não existe)\">corpora</a>&#160;of real-world data is a fundamental part of machine-learning algorithms for NLP. In addition, theoretical underpinnings of Chomskyan linguistics such as the so-called \"<a href=\"/w/index.php?title=Poverty_of_the_stimulus&amp;action=edit&amp;redlink=1\" class=\"new\" title=\"Poverty of the stimulus (página não existe)\">poverty of the stimulus</a>\" argument entail that general learning algorithms, as are typically used in machine learning, cannot be successful in language processing. As a result, the Chomskyan paradigm discouraged the application of such models to language processing.</span>\n",
            "</li>\n",
            "<li id=\"cite_note-4\"><span class=\"mw-cite-backlink\"><a href=\"#cite_ref-4\">↑</a></span> <span class=\"reference-text\"><cite class=\"citation web\"><a rel=\"nofollow\" class=\"external text\" href=\"http://www.signll.org/conll/\">http://www.signll.org/conll/</a></cite><span title=\"ctx_ver=Z39.88-2004&amp;rfr_id=info%3Asid%2Fpt.wikipedia.org%3AProcessamento+de+linguagem+natural&amp;rft.genre=unknown&amp;rft_id=http%3A%2F%2Fwww.signll.org%2Fconll%2F&amp;rft_val_fmt=info%3Aofi%2Ffmt%3Akev%3Amtx%3Abook\" class=\"Z3988\"><span style=\"display:none;\">&#160;</span></span> <span style=\"font-size:100%\" class=\"error citation-comment\">Em falta ou vazio <code style=\"color:inherit; border:inherit; padding:inherit;\">&#124;título=</code> (<a href=\"/wiki/Ajuda:Erros_nas_refer%C3%AAncias#citation_missing_title\" title=\"Ajuda:Erros nas referências\">ajuda</a>)</span></span>\n",
            "</li>\n",
            "<li id=\"cite_note-5\"><span class=\"mw-cite-backlink\"><a href=\"#cite_ref-5\">↑</a></span> <span class=\"reference-text\"><cite class=\"citation web\"><a rel=\"nofollow\" class=\"external text\" href=\"http://www.signll.org/about/\">http://www.signll.org/about/</a></cite><span title=\"ctx_ver=Z39.88-2004&amp;rfr_id=info%3Asid%2Fpt.wikipedia.org%3AProcessamento+de+linguagem+natural&amp;rft.genre=unknown&amp;rft_id=http%3A%2F%2Fwww.signll.org%2Fabout%2F&amp;rft_val_fmt=info%3Aofi%2Ffmt%3Akev%3Amtx%3Abook\" class=\"Z3988\"><span style=\"display:none;\">&#160;</span></span> <span style=\"font-size:100%\" class=\"error citation-comment\">Em falta ou vazio <code style=\"color:inherit; border:inherit; padding:inherit;\">&#124;título=</code> (<a href=\"/wiki/Ajuda:Erros_nas_refer%C3%AAncias#citation_missing_title\" title=\"Ajuda:Erros nas referências\">ajuda</a>)</span></span>\n",
            "</li>\n",
            "<li id=\"cite_note-6\"><span class=\"mw-cite-backlink\"><a href=\"#cite_ref-6\">↑</a></span> <span class=\"reference-text\">Kishorjit, N., Vidya Raj RK., Nirmal Y., and Sivaji B. (2012) \"<a rel=\"nofollow\" class=\"external text\" href=\"http://aclweb.org/anthology//W/W12/W12-5008.pdf\">Manipuri Morpheme Identification</a>\", Proceedings of the 3rd Workshop on South and Southeast Asian Natural Language Processing (SANLP),pages 95–108, COLING 2012, Mumbai, December 2012</span>\n",
            "</li>\n",
            "<li id=\"cite_note-7\"><span class=\"mw-cite-backlink\"><a href=\"#cite_ref-7\">↑</a></span> <span class=\"reference-text\">Yucong Duan, Christophe Cruz (2011),&#160;<i><a rel=\"nofollow\" class=\"external text\" href=\"http://www.ijimt.org/abstract/100-E00187.htm\">Formalizing Semantic of Natural Language through Conceptualization from Existence</a> <a rel=\"nofollow\" class=\"external text\" href=\"https://web.archive.org/web/20111009135952/http://www.ijimt.org/abstract/100-E00187.htm\">Arquivado em</a> 9 de outubro de  2011, no <a href=\"/wiki/Wayback_Machine\" title=\"Wayback Machine\">Wayback Machine</a>.</i>. International Journal of Innovation, Management and Technology(2011) 2 (1), pp. 37-42.</span>\n",
            "</li>\n",
            "<li id=\"cite_note-8\"><span class=\"mw-cite-backlink\"><a href=\"#cite_ref-8\">↑</a></span> <span class=\"reference-text\">\"<a rel=\"nofollow\" class=\"external text\" href=\"https://www.academia.edu/2475776/Versatile_question_answering_systems_seeing_in_synthesis\">Versatile question answering systems: seeing in synthesis</a>\", Mittal et al., IJIIDS, 5(2), 119-142, 2011.</span>\n",
            "</li>\n",
            "<li id=\"cite_note-9\"><span class=\"mw-cite-backlink\"><a href=\"#cite_ref-9\">↑</a></span> <span class=\"reference-text\">Ciaramella, Alberto, Giancarlo Pirani, and Claudio Rullent. \"Conclusions and Future Developments.\" Advanced Algorithms and Architectures for Speech Understanding. Springer Berlin Heidelberg, 1990. 265-274.</span>\n",
            "</li>\n",
            "<li id=\"cite_note-10\"><span class=\"mw-cite-backlink\"><a href=\"#cite_ref-10\">↑</a></span> <span class=\"reference-text\">Roberto Pieraccini, Esther Levin, Chin-Hui Lee:&#160;<i>Stochastic representation of conceptual structure in the ATIS task,</i>, Proc. Fourth Joint DARPA Speech and Natural Lang. Workshop, Pacific Grove, CA, Feb. 1991.</span>\n",
            "</li>\n",
            "<li id=\"cite_note-11\"><span class=\"mw-cite-backlink\"><a href=\"#cite_ref-11\">↑</a></span> <span class=\"reference-text\">Christopher D. Manning, Hinrich Schütze:&#160;<i>Foundations of Statistical Natural Language Processing</i>,&#160;<a href=\"/wiki/MIT_Press\" class=\"mw-redirect\" title=\"MIT Press\">MIT Press</a>(1999),&#160;<a href=\"/wiki/Especial:Fontes_de_livros/9780262133609\" class=\"internal mw-magiclink-isbn\">ISBN 978-0-262-13360-9</a>, p. xxxi</span>\n",
            "</li>\n",
            "<li id=\"cite_note-12\"><span class=\"mw-cite-backlink\"><a href=\"#cite_ref-12\">↑</a></span> <span class=\"reference-text\">Pirani, Giancarlo, ed. Advanced algorithms and architectures for speech understanding. Vol. 1. Springer Science &amp; Business Media, 2013.</span>\n",
            "</li>\n",
            "<li id=\"cite_note-13\"><span class=\"mw-cite-backlink\"><a href=\"#cite_ref-13\">↑</a></span> <span class=\"reference-text\">Magnini, B., Cappelli, A., Tamburini, F., Bosco, C., Mazzei, A., Lombardo, V., Bertagna, F., Toral, A., Bartalesi Lenzi, V., Sprugnoli, R. &amp; Speranza, M. (2008, May).&#160;<a rel=\"nofollow\" class=\"external text\" href=\"http://www.lrec-conf.org/proceedings/lrec2008/pdf/630_paper.pdf\">Evaluation of Natural Language Tools for Italian: EVALITA 2007</a>. In Proceedings of LREC 2008.</span>\n",
            "</li>\n",
            "<li id=\"cite_note-14\"><span class=\"mw-cite-backlink\"><a href=\"#cite_ref-14\">↑</a></span> <span class=\"reference-text\">Attardi, G., Basile, V., Bosco, C., Caselli, T., Dell’Orletta, F., Montemagni, S., Patti, V., Simi, M. &amp; Sprugnoli, R. (2015).&#160;<a rel=\"nofollow\" class=\"external text\" href=\"http://content.iospress.com/articles/intelligenza-artificiale/ia076\">State of the Art Language Technologies for Italian: The EVALITA 2014 Perspective.</a>&#160;Intelligenza Artificiale, 9(1), 43-61.</span>\n",
            "</li>\n",
            "</ol></div></div>\n",
            "<h2><span class=\"mw-headline\" id=\"Leitura_adicional\">Leitura adicional</span><span class=\"mw-editsection\"><span class=\"mw-editsection-bracket\">[</span><a href=\"/w/index.php?title=Processamento_de_linguagem_natural&amp;veaction=edit&amp;section=11\" title=\"Editar secção: Leitura adicional\" class=\"mw-editsection-visualeditor\"><span>editar</span></a><span class=\"mw-editsection-divider\"> | </span><a href=\"/w/index.php?title=Processamento_de_linguagem_natural&amp;action=edit&amp;section=11\" title=\"Edit section&#039;s source code: Leitura adicional\"><span>editar código-fonte</span></a><span class=\"mw-editsection-bracket\">]</span></span></h2>\n",
            "<ul><li><small>Steven Bird, Ewan Klein, and Edward Loper (2009).&#160;<i>Natural Language Processing with Python</i>. O'Reilly Media.&#160;<a href=\"/wiki/Especial:Fontes_de_livros/9780596516499\" class=\"internal mw-magiclink-isbn\">ISBN 978-0-596-51649-9</a>.</small></li>\n",
            "<li><small>Daniel Jurafsky and James H. Martin (2008).&#160;<i>Speech and Language Processing</i>, 2nd edition. Pearson Prentice Hall.&#160;<a href=\"/wiki/Especial:Fontes_de_livros/9780131873216\" class=\"internal mw-magiclink-isbn\">ISBN 978-0-13-187321-6</a>.</small></li>\n",
            "<li><small>Christopher D. Manning, Prabhakar Raghavan, and Hinrich Schütze (2008).&#160;<i>Introduction to Information Retrieval</i>. Cambridge University Press.&#160;<a href=\"/wiki/Especial:Fontes_de_livros/9780521865715\" class=\"internal mw-magiclink-isbn\">ISBN 978-0-521-86571-5</a>.&#160;<a rel=\"nofollow\" class=\"external text\" href=\"http://nlp.stanford.edu/IR-book/\">Official html and pdf versions available without charge.</a></small></li>\n",
            "<li><small>Christopher D. Manning and Hinrich Schütze (1999).&#160;<i>Foundations of Statistical Natural Language Processing</i>. The MIT Press.&#160;<a href=\"/wiki/Especial:Fontes_de_livros/9780262133609\" class=\"internal mw-magiclink-isbn\">ISBN 978-0-262-13360-9</a>.</small></li>\n",
            "<li><small>David M. W. Powers and Christopher C. R. Turk (1989).&#160;<i>Machine Learning of Natural Language</i>. Springer-Verlag.&#160;<a href=\"/wiki/Especial:Fontes_de_livros/9780387195575\" class=\"internal mw-magiclink-isbn\">ISBN 978-0-387-19557-5</a>.</small></li></ul>\n",
            "<!-- \n",
            "NewPP limit report\n",
            "Parsed by mw1414\n",
            "Cached time: 20231017123322\n",
            "Cache expiry: 1814400\n",
            "Reduced expiry: false\n",
            "Complications: [show‐toc]\n",
            "CPU time usage: 0.416 seconds\n",
            "Real time usage: 0.474 seconds\n",
            "Preprocessor visited node count: 3499/1000000\n",
            "Post‐expand include size: 21408/2097152 bytes\n",
            "Template argument size: 411/2097152 bytes\n",
            "Highest expansion depth: 12/100\n",
            "Expensive parser function count: 2/500\n",
            "Unstrip recursion depth: 0/20\n",
            "Unstrip post‐expand size: 87743/5000000 bytes\n",
            "Lua time usage: 0.313/10.000 seconds\n",
            "Lua memory usage: 2214191/52428800 bytes\n",
            "Number of Wikibase entities loaded: 0/400\n",
            "-->\n",
            "<!--\n",
            "Transclusion expansion time report (%,ms,calls,template)\n",
            "100.00%  419.873      1 -total\n",
            " 78.88%  331.211      1 Predefinição:Formatar_referências\n",
            " 74.04%  310.884      3 Predefinição:Ambox\n",
            " 11.88%   49.870      1 Predefinição:Referências\n",
            "  7.48%   31.412      2 Predefinição:Citar_web\n",
            "  6.33%   26.574      2 Predefinição:Manutenção/Categorizando_por_assunto\n",
            "  4.57%   19.178      2 Predefinição:Manutenção/Categorizando_por_assunto/auxcat\n",
            "  4.09%   17.180      1 Predefinição:Mais_fontes\n",
            "  3.11%   13.069      1 Predefinição:Reciclagem\n",
            "  1.07%    4.500      1 Predefinição:Argvar\n",
            "-->\n",
            "\n",
            "<!-- Saved in parser cache with key ptwiki:pcache:idhash:516647-0!canonical and timestamp 20231017123321 and revision id 65654952. Rendering was triggered because: page-view\n",
            " -->\n",
            "</div>\n"
          ]
        }
      ]
    },
    {
      "cell_type": "markdown",
      "source": [
        "#### **CONSIDERAÇÕES**"
      ],
      "metadata": {
        "id": "xIP2DoACa7of"
      }
    },
    {
      "cell_type": "markdown",
      "source": [
        "Neste tutorial, você aprendeu como usar a API da Wikipedia para acessar informações de referência e pesquisa, respeitando a política de User-Agent da Wikipedia ao definir o cabeçalho User-Agent nas suas solicitações."
      ],
      "metadata": {
        "id": "dCRN197XbcQH"
      }
    },
    {
      "cell_type": "markdown",
      "source": [
        "**REFERÊNCIAS**\n",
        "\n",
        "---\n",
        "\n"
      ],
      "metadata": {
        "id": "DJa20CJRpQ7t"
      }
    },
    {
      "cell_type": "markdown",
      "source": [
        "Informar todas as referências usadas para a elaboração do **TUTORIAL**. Citar, por exemplo: vídeos no **YouTube**, artigos no **Medium** etc.\n",
        "\n",
        "**IMPORTANTE**: considerar referências **RECENTES** (3 meses)."
      ],
      "metadata": {
        "id": "GxpuIOR3pUWr"
      }
    }
  ]
}